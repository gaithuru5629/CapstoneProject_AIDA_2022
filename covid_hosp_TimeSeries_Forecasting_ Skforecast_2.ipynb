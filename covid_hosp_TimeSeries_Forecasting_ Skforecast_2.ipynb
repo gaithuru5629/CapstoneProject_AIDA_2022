{
 "cells": [
  {
   "cell_type": "markdown",
   "id": "0e6104bb-df69-4dbe-82e9-f892e3dc10cc",
   "metadata": {
    "tags": []
   },
   "source": [
    "## Recursive Autoregressive Forecasting using Skforecast for Time Series Forecasting in Scikit-Learn"
   ]
  },
  {
   "cell_type": "markdown",
   "id": "41c969a7-5995-459d-92aa-839f6c40b7c6",
   "metadata": {},
   "source": [
    "To apply machine learning models, time series data has to be transformed into a matrix in which each value is related to the time window (lags) that precedes it.\n",
    "A lag with respect to a time step $t$  is the values of the series at previous time steps, e.g., lag 1 is the value at time step t-1.\n",
    "\n",
    "Once data is in matrix form, any regression model can be trained to predict the next value (step) of the series. \n",
    "During model training, every row is considered a separate data instance, where values at lags 1, 2, ...  p  are considered predictors for the target quantity of the time series at time step  p+1 ."
   ]
  },
  {
   "cell_type": "code",
   "execution_count": 1,
   "id": "8dee19e5-c496-4b7b-a824-b16ac96b7625",
   "metadata": {
    "tags": []
   },
   "outputs": [],
   "source": [
    "import pandas as pd\n",
    "import numpy as np\n",
    "import matplotlib as mpl\n",
    "import matplotlib.pyplot as plt\n",
    "from dateutil.parser import parse"
   ]
  },
  {
   "cell_type": "code",
   "execution_count": 2,
   "id": "bafdcbae-655a-4379-8851-9c0143d56a7b",
   "metadata": {
    "tags": []
   },
   "outputs": [],
   "source": [
    "# Modelling and forecasting\n",
    "from skforecast.ForecasterAutoreg import ForecasterAutoreg"
   ]
  },
  {
   "cell_type": "code",
   "execution_count": 3,
   "id": "a7c16888-e319-4679-afd2-67dfb5c630d0",
   "metadata": {},
   "outputs": [],
   "source": [
    "from sklearn.linear_model import LinearRegression\n",
    "from sklearn.linear_model import Lasso\n",
    "from sklearn.ensemble import RandomForestRegressor\n",
    "from sklearn.metrics import mean_squared_error\n",
    "from sklearn.preprocessing import StandardScaler\n",
    "from sklearn.pipeline import make_pipeline\n",
    "\n",
    "from skforecast.ForecasterAutoreg import ForecasterAutoreg\n",
    "from skforecast.ForecasterAutoregCustom import ForecasterAutoregCustom\n",
    "from skforecast.ForecasterAutoregDirect import ForecasterAutoregDirect\n",
    "from skforecast.model_selection import grid_search_forecaster\n",
    "from skforecast.model_selection import backtesting_forecaster\n",
    "from skforecast.utils import save_forecaster\n",
    "from skforecast.utils import load_forecaster"
   ]
  },
  {
   "cell_type": "code",
   "execution_count": 4,
   "id": "d9fd3795-b83d-4e75-9c19-4aee515289c5",
   "metadata": {
    "tags": []
   },
   "outputs": [
    {
     "name": "stdout",
     "output_type": "stream",
     "text": [
      "<class 'pandas.core.frame.DataFrame'>\n",
      "RangeIndex: 18216 entries, 0 to 18215\n",
      "Data columns (total 16 columns):\n",
      " #   Column                      Non-Null Count  Dtype  \n",
      "---  ------                      --------------  -----  \n",
      " 0   Date                        18216 non-null  object \n",
      " 1   Region                      18216 non-null  object \n",
      " 2   Total Cases                 18216 non-null  float64\n",
      " 3   Active Cases                18216 non-null  int64  \n",
      " 4   Inpatient Hospitalizations  18216 non-null  float64\n",
      " 5   ICU Hospitalizations        18216 non-null  float64\n",
      " 6   Recovered Cases             18216 non-null  float64\n",
      " 7   Deaths                      18216 non-null  float64\n",
      " 8   New Cases                   18216 non-null  int64  \n",
      " 9   Age 4 and Under             18216 non-null  float64\n",
      " 10  Age 5 to 11                 18216 non-null  float64\n",
      " 11  Age 12 to 19                18216 non-null  float64\n",
      " 12  Age 20 to 39                18216 non-null  float64\n",
      " 13  Ages 40 to 59               18216 non-null  float64\n",
      " 14  Age 60 to 79                18216 non-null  float64\n",
      " 15  Age 80+                     18216 non-null  float64\n",
      "dtypes: float64(12), int64(2), object(2)\n",
      "memory usage: 2.2+ MB\n"
     ]
    },
    {
     "data": {
      "text/html": [
       "<div>\n",
       "<style scoped>\n",
       "    .dataframe tbody tr th:only-of-type {\n",
       "        vertical-align: middle;\n",
       "    }\n",
       "\n",
       "    .dataframe tbody tr th {\n",
       "        vertical-align: top;\n",
       "    }\n",
       "\n",
       "    .dataframe thead th {\n",
       "        text-align: right;\n",
       "    }\n",
       "</style>\n",
       "<table border=\"1\" class=\"dataframe\">\n",
       "  <thead>\n",
       "    <tr style=\"text-align: right;\">\n",
       "      <th></th>\n",
       "      <th>Date</th>\n",
       "      <th>Region</th>\n",
       "      <th>Total Cases</th>\n",
       "      <th>Active Cases</th>\n",
       "      <th>Inpatient Hospitalizations</th>\n",
       "      <th>ICU Hospitalizations</th>\n",
       "      <th>Recovered Cases</th>\n",
       "      <th>Deaths</th>\n",
       "      <th>New Cases</th>\n",
       "      <th>Age 4 and Under</th>\n",
       "      <th>Age 5 to 11</th>\n",
       "      <th>Age 12 to 19</th>\n",
       "      <th>Age 20 to 39</th>\n",
       "      <th>Ages 40 to 59</th>\n",
       "      <th>Age 60 to 79</th>\n",
       "      <th>Age 80+</th>\n",
       "    </tr>\n",
       "  </thead>\n",
       "  <tbody>\n",
       "    <tr>\n",
       "      <th>18211</th>\n",
       "      <td>2022/02/06</td>\n",
       "      <td>South East</td>\n",
       "      <td>8191.0</td>\n",
       "      <td>142</td>\n",
       "      <td>14.0</td>\n",
       "      <td>0.0</td>\n",
       "      <td>7415.0</td>\n",
       "      <td>84.0</td>\n",
       "      <td>6</td>\n",
       "      <td>0.0</td>\n",
       "      <td>0.0</td>\n",
       "      <td>0.0</td>\n",
       "      <td>0.0</td>\n",
       "      <td>0.0</td>\n",
       "      <td>0.0</td>\n",
       "      <td>0.0</td>\n",
       "    </tr>\n",
       "    <tr>\n",
       "      <th>18212</th>\n",
       "      <td>2022/02/06</td>\n",
       "      <td>South East</td>\n",
       "      <td>0.0</td>\n",
       "      <td>160</td>\n",
       "      <td>0.0</td>\n",
       "      <td>0.0</td>\n",
       "      <td>0.0</td>\n",
       "      <td>0.0</td>\n",
       "      <td>15</td>\n",
       "      <td>0.0</td>\n",
       "      <td>0.0</td>\n",
       "      <td>0.0</td>\n",
       "      <td>0.0</td>\n",
       "      <td>0.0</td>\n",
       "      <td>0.0</td>\n",
       "      <td>0.0</td>\n",
       "    </tr>\n",
       "    <tr>\n",
       "      <th>18213</th>\n",
       "      <td>2022/02/06</td>\n",
       "      <td>South East</td>\n",
       "      <td>0.0</td>\n",
       "      <td>182</td>\n",
       "      <td>0.0</td>\n",
       "      <td>0.0</td>\n",
       "      <td>0.0</td>\n",
       "      <td>0.0</td>\n",
       "      <td>9</td>\n",
       "      <td>0.0</td>\n",
       "      <td>0.0</td>\n",
       "      <td>0.0</td>\n",
       "      <td>0.0</td>\n",
       "      <td>0.0</td>\n",
       "      <td>0.0</td>\n",
       "      <td>0.0</td>\n",
       "    </tr>\n",
       "    <tr>\n",
       "      <th>18214</th>\n",
       "      <td>2022/02/06</td>\n",
       "      <td>South East</td>\n",
       "      <td>0.0</td>\n",
       "      <td>208</td>\n",
       "      <td>0.0</td>\n",
       "      <td>0.0</td>\n",
       "      <td>0.0</td>\n",
       "      <td>0.0</td>\n",
       "      <td>14</td>\n",
       "      <td>0.0</td>\n",
       "      <td>0.0</td>\n",
       "      <td>0.0</td>\n",
       "      <td>0.0</td>\n",
       "      <td>0.0</td>\n",
       "      <td>0.0</td>\n",
       "      <td>0.0</td>\n",
       "    </tr>\n",
       "    <tr>\n",
       "      <th>18215</th>\n",
       "      <td>2022/02/06</td>\n",
       "      <td>Total</td>\n",
       "      <td>123258.0</td>\n",
       "      <td>9223</td>\n",
       "      <td>301.0</td>\n",
       "      <td>31.0</td>\n",
       "      <td>113023.0</td>\n",
       "      <td>1012.0</td>\n",
       "      <td>724</td>\n",
       "      <td>6734.0</td>\n",
       "      <td>12229.0</td>\n",
       "      <td>14297.0</td>\n",
       "      <td>44786.0</td>\n",
       "      <td>29868.0</td>\n",
       "      <td>11745.0</td>\n",
       "      <td>3599.0</td>\n",
       "    </tr>\n",
       "  </tbody>\n",
       "</table>\n",
       "</div>"
      ],
      "text/plain": [
       "             Date      Region  Total Cases  Active Cases  \\\n",
       "18211  2022/02/06  South East       8191.0           142   \n",
       "18212  2022/02/06  South East          0.0           160   \n",
       "18213  2022/02/06  South East          0.0           182   \n",
       "18214  2022/02/06  South East          0.0           208   \n",
       "18215  2022/02/06       Total     123258.0          9223   \n",
       "\n",
       "       Inpatient Hospitalizations  ICU Hospitalizations  Recovered Cases  \\\n",
       "18211                        14.0                   0.0           7415.0   \n",
       "18212                         0.0                   0.0              0.0   \n",
       "18213                         0.0                   0.0              0.0   \n",
       "18214                         0.0                   0.0              0.0   \n",
       "18215                       301.0                  31.0         113023.0   \n",
       "\n",
       "       Deaths  New Cases  Age 4 and Under  Age 5 to 11  Age 12 to 19  \\\n",
       "18211    84.0          6              0.0          0.0           0.0   \n",
       "18212     0.0         15              0.0          0.0           0.0   \n",
       "18213     0.0          9              0.0          0.0           0.0   \n",
       "18214     0.0         14              0.0          0.0           0.0   \n",
       "18215  1012.0        724           6734.0      12229.0       14297.0   \n",
       "\n",
       "       Age 20 to 39  Ages 40 to 59  Age 60 to 79  Age 80+  \n",
       "18211           0.0            0.0           0.0      0.0  \n",
       "18212           0.0            0.0           0.0      0.0  \n",
       "18213           0.0            0.0           0.0      0.0  \n",
       "18214           0.0            0.0           0.0      0.0  \n",
       "18215       44786.0        29868.0       11745.0   3599.0  "
      ]
     },
     "execution_count": 4,
     "metadata": {},
     "output_type": "execute_result"
    }
   ],
   "source": [
    "#Forecasting using SCikit Learn\n",
    "\n",
    "covid_df = pd.read_csv(\"covidHost_df_DateInd.csv\")\n",
    "covid_df.info()\n",
    "covid_df.tail()"
   ]
  },
  {
   "cell_type": "code",
   "execution_count": 5,
   "id": "d0102a79-a056-4f20-9608-a3638656b8ff",
   "metadata": {},
   "outputs": [
    {
     "name": "stdout",
     "output_type": "stream",
     "text": [
      "<class 'pandas.core.frame.DataFrame'>\n",
      "RangeIndex: 18216 entries, 0 to 18215\n",
      "Data columns (total 16 columns):\n",
      " #   Column                      Non-Null Count  Dtype  \n",
      "---  ------                      --------------  -----  \n",
      " 0   Date                        18216 non-null  object \n",
      " 1   Region                      18216 non-null  object \n",
      " 2   Total Cases                 18216 non-null  float64\n",
      " 3   Active Cases                18216 non-null  int64  \n",
      " 4   Inpatient Hospitalizations  18216 non-null  float64\n",
      " 5   ICU Hospitalizations        18216 non-null  float64\n",
      " 6   Recovered Cases             18216 non-null  float64\n",
      " 7   Deaths                      18216 non-null  float64\n",
      " 8   New Cases                   18216 non-null  int64  \n",
      " 9   Age 4 and Under             18216 non-null  float64\n",
      " 10  Age 5 to 11                 18216 non-null  float64\n",
      " 11  Age 12 to 19                18216 non-null  float64\n",
      " 12  Age 20 to 39                18216 non-null  float64\n",
      " 13  Ages 40 to 59               18216 non-null  float64\n",
      " 14  Age 60 to 79                18216 non-null  float64\n",
      " 15  Age 80+                     18216 non-null  float64\n",
      "dtypes: float64(12), int64(2), object(2)\n",
      "memory usage: 2.2+ MB\n"
     ]
    }
   ],
   "source": [
    "#To make the date column to be parsed as a date field\n",
    "parse_dates=covid_df['Date']\n",
    "covid_df.info()"
   ]
  },
  {
   "cell_type": "code",
   "execution_count": 6,
   "id": "807fa85f-faf0-4108-8f6c-c9e19f4c218c",
   "metadata": {},
   "outputs": [
    {
     "name": "stdout",
     "output_type": "stream",
     "text": [
      "<class 'pandas.core.frame.DataFrame'>\n",
      "RangeIndex: 18216 entries, 0 to 18215\n",
      "Data columns (total 16 columns):\n",
      " #   Column                      Non-Null Count  Dtype         \n",
      "---  ------                      --------------  -----         \n",
      " 0   Date                        18216 non-null  datetime64[ns]\n",
      " 1   Region                      18216 non-null  object        \n",
      " 2   Total Cases                 18216 non-null  float64       \n",
      " 3   Active Cases                18216 non-null  int64         \n",
      " 4   Inpatient Hospitalizations  18216 non-null  float64       \n",
      " 5   ICU Hospitalizations        18216 non-null  float64       \n",
      " 6   Recovered Cases             18216 non-null  float64       \n",
      " 7   Deaths                      18216 non-null  float64       \n",
      " 8   New Cases                   18216 non-null  int64         \n",
      " 9   Age 4 and Under             18216 non-null  float64       \n",
      " 10  Age 5 to 11                 18216 non-null  float64       \n",
      " 11  Age 12 to 19                18216 non-null  float64       \n",
      " 12  Age 20 to 39                18216 non-null  float64       \n",
      " 13  Ages 40 to 59               18216 non-null  float64       \n",
      " 14  Age 60 to 79                18216 non-null  float64       \n",
      " 15  Age 80+                     18216 non-null  float64       \n",
      "dtypes: datetime64[ns](1), float64(12), int64(2), object(1)\n",
      "memory usage: 2.2+ MB\n"
     ]
    }
   ],
   "source": [
    "#Converting date column to datetime format\n",
    "covid_df[\"Date\"] = pd.to_datetime(covid_df['Date'], format='%Y.%m.%d')\n",
    "#covid_df.asfreq(freq='D', fill_value=0)\n",
    "covid_df.info()"
   ]
  },
  {
   "cell_type": "code",
   "execution_count": 7,
   "id": "2e93c3e4-8f15-4df2-928d-cba61cc5b115",
   "metadata": {},
   "outputs": [
    {
     "data": {
      "text/html": [
       "<div>\n",
       "<style scoped>\n",
       "    .dataframe tbody tr th:only-of-type {\n",
       "        vertical-align: middle;\n",
       "    }\n",
       "\n",
       "    .dataframe tbody tr th {\n",
       "        vertical-align: top;\n",
       "    }\n",
       "\n",
       "    .dataframe thead th {\n",
       "        text-align: right;\n",
       "    }\n",
       "</style>\n",
       "<table border=\"1\" class=\"dataframe\">\n",
       "  <thead>\n",
       "    <tr style=\"text-align: right;\">\n",
       "      <th></th>\n",
       "      <th>Date</th>\n",
       "      <th>Region</th>\n",
       "      <th>Total Cases</th>\n",
       "      <th>Active Cases</th>\n",
       "      <th>Inpatient Hospitalizations</th>\n",
       "      <th>ICU Hospitalizations</th>\n",
       "      <th>Recovered Cases</th>\n",
       "      <th>Deaths</th>\n",
       "      <th>New Cases</th>\n",
       "      <th>Age 4 and Under</th>\n",
       "      <th>Age 5 to 11</th>\n",
       "      <th>Age 12 to 19</th>\n",
       "      <th>Age 20 to 39</th>\n",
       "      <th>Ages 40 to 59</th>\n",
       "      <th>Age 60 to 79</th>\n",
       "      <th>Age 80+</th>\n",
       "    </tr>\n",
       "  </thead>\n",
       "  <tbody>\n",
       "    <tr>\n",
       "      <th>0</th>\n",
       "      <td>2020-08-04</td>\n",
       "      <td>Far North West</td>\n",
       "      <td>346.0</td>\n",
       "      <td>4</td>\n",
       "      <td>0.0</td>\n",
       "      <td>0.0</td>\n",
       "      <td>335.0</td>\n",
       "      <td>7.0</td>\n",
       "      <td>0</td>\n",
       "      <td>0.0</td>\n",
       "      <td>0.0</td>\n",
       "      <td>0.0</td>\n",
       "      <td>0.0</td>\n",
       "      <td>0.0</td>\n",
       "      <td>0.0</td>\n",
       "      <td>0.0</td>\n",
       "    </tr>\n",
       "    <tr>\n",
       "      <th>1</th>\n",
       "      <td>2020-08-04</td>\n",
       "      <td>Far North West</td>\n",
       "      <td>0.0</td>\n",
       "      <td>0</td>\n",
       "      <td>0.0</td>\n",
       "      <td>0.0</td>\n",
       "      <td>0.0</td>\n",
       "      <td>0.0</td>\n",
       "      <td>0</td>\n",
       "      <td>0.0</td>\n",
       "      <td>0.0</td>\n",
       "      <td>0.0</td>\n",
       "      <td>0.0</td>\n",
       "      <td>0.0</td>\n",
       "      <td>0.0</td>\n",
       "      <td>0.0</td>\n",
       "    </tr>\n",
       "    <tr>\n",
       "      <th>2</th>\n",
       "      <td>2020-08-04</td>\n",
       "      <td>Far North Central</td>\n",
       "      <td>0.0</td>\n",
       "      <td>0</td>\n",
       "      <td>0.0</td>\n",
       "      <td>0.0</td>\n",
       "      <td>0.0</td>\n",
       "      <td>0.0</td>\n",
       "      <td>0</td>\n",
       "      <td>0.0</td>\n",
       "      <td>0.0</td>\n",
       "      <td>0.0</td>\n",
       "      <td>0.0</td>\n",
       "      <td>0.0</td>\n",
       "      <td>0.0</td>\n",
       "      <td>0.0</td>\n",
       "    </tr>\n",
       "    <tr>\n",
       "      <th>3</th>\n",
       "      <td>2020-08-04</td>\n",
       "      <td>Far North East</td>\n",
       "      <td>6.0</td>\n",
       "      <td>0</td>\n",
       "      <td>0.0</td>\n",
       "      <td>0.0</td>\n",
       "      <td>6.0</td>\n",
       "      <td>0.0</td>\n",
       "      <td>0</td>\n",
       "      <td>0.0</td>\n",
       "      <td>0.0</td>\n",
       "      <td>0.0</td>\n",
       "      <td>0.0</td>\n",
       "      <td>0.0</td>\n",
       "      <td>0.0</td>\n",
       "      <td>0.0</td>\n",
       "    </tr>\n",
       "    <tr>\n",
       "      <th>4</th>\n",
       "      <td>2020-08-04</td>\n",
       "      <td>Far North East</td>\n",
       "      <td>0.0</td>\n",
       "      <td>0</td>\n",
       "      <td>0.0</td>\n",
       "      <td>0.0</td>\n",
       "      <td>0.0</td>\n",
       "      <td>0.0</td>\n",
       "      <td>0</td>\n",
       "      <td>0.0</td>\n",
       "      <td>0.0</td>\n",
       "      <td>0.0</td>\n",
       "      <td>0.0</td>\n",
       "      <td>0.0</td>\n",
       "      <td>0.0</td>\n",
       "      <td>0.0</td>\n",
       "    </tr>\n",
       "  </tbody>\n",
       "</table>\n",
       "</div>"
      ],
      "text/plain": [
       "        Date             Region  Total Cases  Active Cases  \\\n",
       "0 2020-08-04     Far North West        346.0             4   \n",
       "1 2020-08-04     Far North West          0.0             0   \n",
       "2 2020-08-04  Far North Central          0.0             0   \n",
       "3 2020-08-04     Far North East          6.0             0   \n",
       "4 2020-08-04     Far North East          0.0             0   \n",
       "\n",
       "   Inpatient Hospitalizations  ICU Hospitalizations  Recovered Cases  Deaths  \\\n",
       "0                         0.0                   0.0            335.0     7.0   \n",
       "1                         0.0                   0.0              0.0     0.0   \n",
       "2                         0.0                   0.0              0.0     0.0   \n",
       "3                         0.0                   0.0              6.0     0.0   \n",
       "4                         0.0                   0.0              0.0     0.0   \n",
       "\n",
       "   New Cases  Age 4 and Under  Age 5 to 11  Age 12 to 19  Age 20 to 39  \\\n",
       "0          0              0.0          0.0           0.0           0.0   \n",
       "1          0              0.0          0.0           0.0           0.0   \n",
       "2          0              0.0          0.0           0.0           0.0   \n",
       "3          0              0.0          0.0           0.0           0.0   \n",
       "4          0              0.0          0.0           0.0           0.0   \n",
       "\n",
       "   Ages 40 to 59  Age 60 to 79  Age 80+  \n",
       "0            0.0           0.0      0.0  \n",
       "1            0.0           0.0      0.0  \n",
       "2            0.0           0.0      0.0  \n",
       "3            0.0           0.0      0.0  \n",
       "4            0.0           0.0      0.0  "
      ]
     },
     "execution_count": 7,
     "metadata": {},
     "output_type": "execute_result"
    }
   ],
   "source": [
    "covid_df.head()"
   ]
  },
  {
   "cell_type": "code",
   "execution_count": 8,
   "id": "f73330e6-eb55-4214-b057-5d6352f897d4",
   "metadata": {},
   "outputs": [],
   "source": [
    "date_time = covid_df[\"Date\"]"
   ]
  },
  {
   "cell_type": "markdown",
   "id": "acf02319-34b0-4fae-b6d1-67ae5f336ccc",
   "metadata": {},
   "source": [
    "## Plotting the evolution of covid cases over time"
   ]
  },
  {
   "cell_type": "code",
   "execution_count": 9,
   "id": "6d1a8865-9a18-4250-ab7d-145af7d142db",
   "metadata": {
    "tags": []
   },
   "outputs": [
    {
     "data": {
      "image/png": "[encoded data removed]",
      "text/plain": [
       "<Figure size 432x288 with 3 Axes>"
      ]
     },
     "metadata": {
      "needs_background": "light"
     },
     "output_type": "display_data"
    },
    {
     "data": {
      "image/png": "[encoded data removed]",
      "text/plain": [
       "<Figure size 432x288 with 3 Axes>"
      ]
     },
     "metadata": {
      "needs_background": "light"
     },
     "output_type": "display_data"
    }
   ],
   "source": [
    "plot_cols = ['Total Cases', 'Active Cases', 'Deaths']\n",
    "plot_features = covid_df[plot_cols]\n",
    "plot_features.index = date_time\n",
    "_ = plot_features.plot(subplots=True)\n",
    "\n",
    "plot_features = covid_df[plot_cols][:18215]\n",
    "plot_features.index = date_time[:18215]\n",
    "_ = plot_features.plot(subplots=True)"
   ]
  },
  {
   "cell_type": "markdown",
   "id": "671d3beb-1790-49ab-bb04-4e50a49ba3da",
   "metadata": {},
   "source": [
    "## Evaluating the statistics of the dataset"
   ]
  },
  {
   "cell_type": "code",
   "execution_count": 10,
   "id": "756bc51d-4534-4f0f-a7b3-bce8b8dfb839",
   "metadata": {
    "tags": []
   },
   "outputs": [],
   "source": [
    "#https://www.tensorflow.org/tutorials/structured_data/time_series"
   ]
  },
  {
   "cell_type": "code",
   "execution_count": 11,
   "id": "1ffa49b7-d2cf-413d-ad62-358d145c978e",
   "metadata": {},
   "outputs": [
    {
     "data": {
      "text/html": [
       "<div>\n",
       "<style scoped>\n",
       "    .dataframe tbody tr th:only-of-type {\n",
       "        vertical-align: middle;\n",
       "    }\n",
       "\n",
       "    .dataframe tbody tr th {\n",
       "        vertical-align: top;\n",
       "    }\n",
       "\n",
       "    .dataframe thead th {\n",
       "        text-align: right;\n",
       "    }\n",
       "</style>\n",
       "<table border=\"1\" class=\"dataframe\">\n",
       "  <thead>\n",
       "    <tr style=\"text-align: right;\">\n",
       "      <th></th>\n",
       "      <th>count</th>\n",
       "      <th>mean</th>\n",
       "      <th>std</th>\n",
       "      <th>min</th>\n",
       "      <th>25%</th>\n",
       "      <th>50%</th>\n",
       "      <th>75%</th>\n",
       "      <th>max</th>\n",
       "    </tr>\n",
       "  </thead>\n",
       "  <tbody>\n",
       "    <tr>\n",
       "      <th>Total Cases</th>\n",
       "      <td>18216.0</td>\n",
       "      <td>2515.134387</td>\n",
       "      <td>9299.735599</td>\n",
       "      <td>0.0</td>\n",
       "      <td>0.0</td>\n",
       "      <td>0.0</td>\n",
       "      <td>1308.25</td>\n",
       "      <td>123258.0</td>\n",
       "    </tr>\n",
       "    <tr>\n",
       "      <th>Active Cases</th>\n",
       "      <td>18216.0</td>\n",
       "      <td>135.765975</td>\n",
       "      <td>616.291359</td>\n",
       "      <td>0.0</td>\n",
       "      <td>5.0</td>\n",
       "      <td>21.0</td>\n",
       "      <td>63.00</td>\n",
       "      <td>13290.0</td>\n",
       "    </tr>\n",
       "    <tr>\n",
       "      <th>Inpatient Hospitalizations</th>\n",
       "      <td>18216.0</td>\n",
       "      <td>6.432916</td>\n",
       "      <td>24.349241</td>\n",
       "      <td>0.0</td>\n",
       "      <td>0.0</td>\n",
       "      <td>0.0</td>\n",
       "      <td>1.00</td>\n",
       "      <td>347.0</td>\n",
       "    </tr>\n",
       "    <tr>\n",
       "      <th>ICU Hospitalizations</th>\n",
       "      <td>18216.0</td>\n",
       "      <td>1.541612</td>\n",
       "      <td>6.201487</td>\n",
       "      <td>0.0</td>\n",
       "      <td>0.0</td>\n",
       "      <td>0.0</td>\n",
       "      <td>0.00</td>\n",
       "      <td>85.0</td>\n",
       "    </tr>\n",
       "    <tr>\n",
       "      <th>Recovered Cases</th>\n",
       "      <td>18216.0</td>\n",
       "      <td>2351.559892</td>\n",
       "      <td>8742.671891</td>\n",
       "      <td>0.0</td>\n",
       "      <td>0.0</td>\n",
       "      <td>0.0</td>\n",
       "      <td>1143.25</td>\n",
       "      <td>113023.0</td>\n",
       "    </tr>\n",
       "    <tr>\n",
       "      <th>Deaths</th>\n",
       "      <td>18216.0</td>\n",
       "      <td>27.783762</td>\n",
       "      <td>100.298186</td>\n",
       "      <td>0.0</td>\n",
       "      <td>0.0</td>\n",
       "      <td>0.0</td>\n",
       "      <td>11.00</td>\n",
       "      <td>1012.0</td>\n",
       "    </tr>\n",
       "    <tr>\n",
       "      <th>New Cases</th>\n",
       "      <td>18216.0</td>\n",
       "      <td>12.767567</td>\n",
       "      <td>62.609119</td>\n",
       "      <td>0.0</td>\n",
       "      <td>0.0</td>\n",
       "      <td>1.0</td>\n",
       "      <td>6.00</td>\n",
       "      <td>1638.0</td>\n",
       "    </tr>\n",
       "    <tr>\n",
       "      <th>Age 4 and Under</th>\n",
       "      <td>18216.0</td>\n",
       "      <td>20.519433</td>\n",
       "      <td>334.801027</td>\n",
       "      <td>0.0</td>\n",
       "      <td>0.0</td>\n",
       "      <td>0.0</td>\n",
       "      <td>0.00</td>\n",
       "      <td>6734.0</td>\n",
       "    </tr>\n",
       "    <tr>\n",
       "      <th>Age 5 to 11</th>\n",
       "      <td>18216.0</td>\n",
       "      <td>37.759442</td>\n",
       "      <td>616.247804</td>\n",
       "      <td>0.0</td>\n",
       "      <td>0.0</td>\n",
       "      <td>0.0</td>\n",
       "      <td>0.00</td>\n",
       "      <td>12229.0</td>\n",
       "    </tr>\n",
       "    <tr>\n",
       "      <th>Age 12 to 19</th>\n",
       "      <td>18216.0</td>\n",
       "      <td>64.743303</td>\n",
       "      <td>827.822913</td>\n",
       "      <td>0.0</td>\n",
       "      <td>0.0</td>\n",
       "      <td>0.0</td>\n",
       "      <td>0.00</td>\n",
       "      <td>14297.0</td>\n",
       "    </tr>\n",
       "    <tr>\n",
       "      <th>Age 20 to 39</th>\n",
       "      <td>18216.0</td>\n",
       "      <td>450.717995</td>\n",
       "      <td>3186.659292</td>\n",
       "      <td>0.0</td>\n",
       "      <td>0.0</td>\n",
       "      <td>0.0</td>\n",
       "      <td>0.00</td>\n",
       "      <td>44786.0</td>\n",
       "    </tr>\n",
       "    <tr>\n",
       "      <th>Ages 40 to 59</th>\n",
       "      <td>18216.0</td>\n",
       "      <td>302.267128</td>\n",
       "      <td>2112.427233</td>\n",
       "      <td>0.0</td>\n",
       "      <td>0.0</td>\n",
       "      <td>0.0</td>\n",
       "      <td>0.00</td>\n",
       "      <td>29868.0</td>\n",
       "    </tr>\n",
       "    <tr>\n",
       "      <th>Age 60 to 79</th>\n",
       "      <td>18216.0</td>\n",
       "      <td>135.351230</td>\n",
       "      <td>932.796121</td>\n",
       "      <td>0.0</td>\n",
       "      <td>0.0</td>\n",
       "      <td>0.0</td>\n",
       "      <td>0.00</td>\n",
       "      <td>11745.0</td>\n",
       "    </tr>\n",
       "    <tr>\n",
       "      <th>Age 80+</th>\n",
       "      <td>18216.0</td>\n",
       "      <td>39.969971</td>\n",
       "      <td>273.849291</td>\n",
       "      <td>0.0</td>\n",
       "      <td>0.0</td>\n",
       "      <td>0.0</td>\n",
       "      <td>0.00</td>\n",
       "      <td>3599.0</td>\n",
       "    </tr>\n",
       "  </tbody>\n",
       "</table>\n",
       "</div>"
      ],
      "text/plain": [
       "                              count         mean          std  min  25%   50%  \\\n",
       "Total Cases                 18216.0  2515.134387  9299.735599  0.0  0.0   0.0   \n",
       "Active Cases                18216.0   135.765975   616.291359  0.0  5.0  21.0   \n",
       "Inpatient Hospitalizations  18216.0     6.432916    24.349241  0.0  0.0   0.0   \n",
       "ICU Hospitalizations        18216.0     1.541612     6.201487  0.0  0.0   0.0   \n",
       "Recovered Cases             18216.0  2351.559892  8742.671891  0.0  0.0   0.0   \n",
       "Deaths                      18216.0    27.783762   100.298186  0.0  0.0   0.0   \n",
       "New Cases                   18216.0    12.767567    62.609119  0.0  0.0   1.0   \n",
       "Age 4 and Under             18216.0    20.519433   334.801027  0.0  0.0   0.0   \n",
       "Age 5 to 11                 18216.0    37.759442   616.247804  0.0  0.0   0.0   \n",
       "Age 12 to 19                18216.0    64.743303   827.822913  0.0  0.0   0.0   \n",
       "Age 20 to 39                18216.0   450.717995  3186.659292  0.0  0.0   0.0   \n",
       "Ages 40 to 59               18216.0   302.267128  2112.427233  0.0  0.0   0.0   \n",
       "Age 60 to 79                18216.0   135.351230   932.796121  0.0  0.0   0.0   \n",
       "Age 80+                     18216.0    39.969971   273.849291  0.0  0.0   0.0   \n",
       "\n",
       "                                75%       max  \n",
       "Total Cases                 1308.25  123258.0  \n",
       "Active Cases                  63.00   13290.0  \n",
       "Inpatient Hospitalizations     1.00     347.0  \n",
       "ICU Hospitalizations           0.00      85.0  \n",
       "Recovered Cases             1143.25  113023.0  \n",
       "Deaths                        11.00    1012.0  \n",
       "New Cases                      6.00    1638.0  \n",
       "Age 4 and Under                0.00    6734.0  \n",
       "Age 5 to 11                    0.00   12229.0  \n",
       "Age 12 to 19                   0.00   14297.0  \n",
       "Age 20 to 39                   0.00   44786.0  \n",
       "Ages 40 to 59                  0.00   29868.0  \n",
       "Age 60 to 79                   0.00   11745.0  \n",
       "Age 80+                        0.00    3599.0  "
      ]
     },
     "execution_count": 11,
     "metadata": {},
     "output_type": "execute_result"
    }
   ],
   "source": [
    "covid_df.describe().transpose()"
   ]
  },
  {
   "cell_type": "code",
   "execution_count": 12,
   "id": "b75d5a07-e005-42a1-8572-a4531bf1b869",
   "metadata": {},
   "outputs": [],
   "source": [
    "#https://www.cienciadedatos.net/documentos/py27-time-series-forecasting-python-scikitlearn.html"
   ]
  },
  {
   "cell_type": "code",
   "execution_count": 13,
   "id": "2717ef7c-d961-46bf-b9cf-56c9f00755c1",
   "metadata": {
    "tags": []
   },
   "outputs": [],
   "source": [
    "#Data preparation\n",
    "covid_df = covid_df.set_index('Date')"
   ]
  },
  {
   "cell_type": "code",
   "execution_count": 14,
   "id": "c0068c4a-ee85-40eb-a231-77262b1f0baf",
   "metadata": {},
   "outputs": [
    {
     "data": {
      "text/html": [
       "<div>\n",
       "<style scoped>\n",
       "    .dataframe tbody tr th:only-of-type {\n",
       "        vertical-align: middle;\n",
       "    }\n",
       "\n",
       "    .dataframe tbody tr th {\n",
       "        vertical-align: top;\n",
       "    }\n",
       "\n",
       "    .dataframe thead th {\n",
       "        text-align: right;\n",
       "    }\n",
       "</style>\n",
       "<table border=\"1\" class=\"dataframe\">\n",
       "  <thead>\n",
       "    <tr style=\"text-align: right;\">\n",
       "      <th></th>\n",
       "      <th>Date</th>\n",
       "      <th>Region</th>\n",
       "      <th>Active Cases</th>\n",
       "      <th>Inpatient Hospitalizations</th>\n",
       "      <th>ICU Hospitalizations</th>\n",
       "      <th>Recovered Cases</th>\n",
       "      <th>Deaths</th>\n",
       "      <th>New Cases</th>\n",
       "    </tr>\n",
       "  </thead>\n",
       "  <tbody>\n",
       "    <tr>\n",
       "      <th>7722</th>\n",
       "      <td>2022-02-06</td>\n",
       "      <td>Regina</td>\n",
       "      <td>2113</td>\n",
       "      <td>49.0</td>\n",
       "      <td>5.0</td>\n",
       "      <td>23925.0</td>\n",
       "      <td>219.0</td>\n",
       "      <td>122</td>\n",
       "    </tr>\n",
       "    <tr>\n",
       "      <th>7723</th>\n",
       "      <td>2022-02-06</td>\n",
       "      <td>Saskatoon</td>\n",
       "      <td>2485</td>\n",
       "      <td>154.0</td>\n",
       "      <td>17.0</td>\n",
       "      <td>29440.0</td>\n",
       "      <td>190.0</td>\n",
       "      <td>207</td>\n",
       "    </tr>\n",
       "    <tr>\n",
       "      <th>7724</th>\n",
       "      <td>2022-02-06</td>\n",
       "      <td>South Central</td>\n",
       "      <td>559</td>\n",
       "      <td>1.0</td>\n",
       "      <td>1.0</td>\n",
       "      <td>4463.0</td>\n",
       "      <td>45.0</td>\n",
       "      <td>67</td>\n",
       "    </tr>\n",
       "    <tr>\n",
       "      <th>7725</th>\n",
       "      <td>2022-02-06</td>\n",
       "      <td>South East</td>\n",
       "      <td>692</td>\n",
       "      <td>14.0</td>\n",
       "      <td>0.0</td>\n",
       "      <td>7415.0</td>\n",
       "      <td>84.0</td>\n",
       "      <td>44</td>\n",
       "    </tr>\n",
       "    <tr>\n",
       "      <th>7726</th>\n",
       "      <td>2022-02-06</td>\n",
       "      <td>South West</td>\n",
       "      <td>265</td>\n",
       "      <td>6.0</td>\n",
       "      <td>0.0</td>\n",
       "      <td>3100.0</td>\n",
       "      <td>40.0</td>\n",
       "      <td>23</td>\n",
       "    </tr>\n",
       "  </tbody>\n",
       "</table>\n",
       "</div>"
      ],
      "text/plain": [
       "           Date         Region  Active Cases  Inpatient Hospitalizations  \\\n",
       "7722 2022-02-06         Regina          2113                        49.0   \n",
       "7723 2022-02-06      Saskatoon          2485                       154.0   \n",
       "7724 2022-02-06  South Central           559                         1.0   \n",
       "7725 2022-02-06     South East           692                        14.0   \n",
       "7726 2022-02-06     South West           265                         6.0   \n",
       "\n",
       "      ICU Hospitalizations  Recovered Cases  Deaths  New Cases  \n",
       "7722                   5.0          23925.0   219.0        122  \n",
       "7723                  17.0          29440.0   190.0        207  \n",
       "7724                   1.0           4463.0    45.0         67  \n",
       "7725                   0.0           7415.0    84.0         44  \n",
       "7726                   0.0           3100.0    40.0         23  "
      ]
     },
     "execution_count": 14,
     "metadata": {},
     "output_type": "execute_result"
    }
   ],
   "source": [
    "## Grouping cases by region\n",
    "covid_df_groupReg = covid_df.groupby([\"Date\", \"Region\"])[[\"Active Cases\", \"Inpatient Hospitalizations\", \"ICU Hospitalizations\", \"Recovered Cases\", \"Deaths\", \"New Cases\"]].sum().reset_index()\n",
    "covid_df_groupReg.tail()\n",
    "#covidHost_df_groupReg.info()  #14 provinces/regions\n",
    "\n",
    "#deleting the last row with totals\n",
    "covid_df_groupReg.drop(covid_df_groupReg.tail(1).index, inplace=True)\n",
    "covid_df_groupReg.tail()"
   ]
  },
  {
   "cell_type": "code",
   "execution_count": 15,
   "id": "7c387d67-517a-424e-90ed-7c59da24aa7e",
   "metadata": {},
   "outputs": [],
   "source": [
    "#sorting rows by region\n",
    "covid_df_groupReg.sort_values(by=\"Region\", ascending=True)\n",
    "\n",
    "#droping the rows containing totals\n",
    "covid_df_groupReg.drop(covid_df_groupReg.index[covid_df_groupReg[\"Region\"] == \"Total\"], inplace = True)"
   ]
  },
  {
   "cell_type": "code",
   "execution_count": 16,
   "id": "759a63b2-626e-4ecb-8f6e-9b82c16ba317",
   "metadata": {},
   "outputs": [
    {
     "name": "stdout",
     "output_type": "stream",
     "text": [
      "<class 'pandas.core.frame.DataFrame'>\n",
      "Int64Index: 7176 entries, 0 to 7726\n",
      "Data columns (total 8 columns):\n",
      " #   Column                      Non-Null Count  Dtype         \n",
      "---  ------                      --------------  -----         \n",
      " 0   Date                        7176 non-null   datetime64[ns]\n",
      " 1   Region                      7176 non-null   object        \n",
      " 2   Active Cases                7176 non-null   int64         \n",
      " 3   Inpatient Hospitalizations  7176 non-null   float64       \n",
      " 4   ICU Hospitalizations        7176 non-null   float64       \n",
      " 5   Recovered Cases             7176 non-null   float64       \n",
      " 6   Deaths                      7176 non-null   float64       \n",
      " 7   New Cases                   7176 non-null   int64         \n",
      "dtypes: datetime64[ns](1), float64(4), int64(2), object(1)\n",
      "memory usage: 504.6+ KB\n"
     ]
    }
   ],
   "source": [
    "covid_df_groupReg.tail()\n",
    "covid_df_groupReg.info()"
   ]
  },
  {
   "cell_type": "code",
   "execution_count": 17,
   "id": "dc66e7f4-229f-4d4e-8134-d0e73d4e9785",
   "metadata": {},
   "outputs": [
    {
     "name": "stdout",
     "output_type": "stream",
     "text": [
      "There are  13  regions\n"
     ]
    }
   ],
   "source": [
    "number_regions = covid_df_groupReg[\"Region\"].unique()\n",
    "print(\"There are \", str(len(number_regions)), \" regions\")"
   ]
  },
  {
   "cell_type": "markdown",
   "id": "c8575bd6-810d-41ba-960e-db98bfe7f0c6",
   "metadata": {},
   "source": [
    "## Filtering out data by province and creating a separate dataframe for each\n",
    "\n",
    "1. Central East"
   ]
  },
  {
   "cell_type": "code",
   "execution_count": 18,
   "id": "f1f9547f-d366-4c7d-b137-bdcbe5f99371",
   "metadata": {
    "tags": []
   },
   "outputs": [
    {
     "name": "stdout",
     "output_type": "stream",
     "text": [
      "<class 'pandas.core.frame.DataFrame'>\n",
      "Int64Index: 552 entries, 0 to 7714\n",
      "Data columns (total 8 columns):\n",
      " #   Column                      Non-Null Count  Dtype         \n",
      "---  ------                      --------------  -----         \n",
      " 0   Date                        552 non-null    datetime64[ns]\n",
      " 1   Region                      552 non-null    object        \n",
      " 2   Active Cases                552 non-null    int64         \n",
      " 3   Inpatient Hospitalizations  552 non-null    float64       \n",
      " 4   ICU Hospitalizations        552 non-null    float64       \n",
      " 5   Recovered Cases             552 non-null    float64       \n",
      " 6   Deaths                      552 non-null    float64       \n",
      " 7   New Cases                   552 non-null    int64         \n",
      "dtypes: datetime64[ns](1), float64(4), int64(2), object(1)\n",
      "memory usage: 38.8+ KB\n"
     ]
    },
    {
     "data": {
      "text/html": [
       "<div>\n",
       "<style scoped>\n",
       "    .dataframe tbody tr th:only-of-type {\n",
       "        vertical-align: middle;\n",
       "    }\n",
       "\n",
       "    .dataframe tbody tr th {\n",
       "        vertical-align: top;\n",
       "    }\n",
       "\n",
       "    .dataframe thead th {\n",
       "        text-align: right;\n",
       "    }\n",
       "</style>\n",
       "<table border=\"1\" class=\"dataframe\">\n",
       "  <thead>\n",
       "    <tr style=\"text-align: right;\">\n",
       "      <th></th>\n",
       "      <th>Date</th>\n",
       "      <th>Region</th>\n",
       "      <th>Active Cases</th>\n",
       "      <th>Inpatient Hospitalizations</th>\n",
       "      <th>ICU Hospitalizations</th>\n",
       "      <th>Recovered Cases</th>\n",
       "      <th>Deaths</th>\n",
       "      <th>New Cases</th>\n",
       "    </tr>\n",
       "  </thead>\n",
       "  <tbody>\n",
       "    <tr>\n",
       "      <th>0</th>\n",
       "      <td>2020-08-04</td>\n",
       "      <td>Central East</td>\n",
       "      <td>3</td>\n",
       "      <td>0.0</td>\n",
       "      <td>0.0</td>\n",
       "      <td>24.0</td>\n",
       "      <td>1.0</td>\n",
       "      <td>0</td>\n",
       "    </tr>\n",
       "    <tr>\n",
       "      <th>14</th>\n",
       "      <td>2020-08-05</td>\n",
       "      <td>Central East</td>\n",
       "      <td>3</td>\n",
       "      <td>1.0</td>\n",
       "      <td>0.0</td>\n",
       "      <td>24.0</td>\n",
       "      <td>1.0</td>\n",
       "      <td>0</td>\n",
       "    </tr>\n",
       "    <tr>\n",
       "      <th>28</th>\n",
       "      <td>2020-08-06</td>\n",
       "      <td>Central East</td>\n",
       "      <td>3</td>\n",
       "      <td>1.0</td>\n",
       "      <td>0.0</td>\n",
       "      <td>24.0</td>\n",
       "      <td>1.0</td>\n",
       "      <td>0</td>\n",
       "    </tr>\n",
       "    <tr>\n",
       "      <th>42</th>\n",
       "      <td>2020-08-07</td>\n",
       "      <td>Central East</td>\n",
       "      <td>5</td>\n",
       "      <td>1.0</td>\n",
       "      <td>0.0</td>\n",
       "      <td>24.0</td>\n",
       "      <td>1.0</td>\n",
       "      <td>2</td>\n",
       "    </tr>\n",
       "    <tr>\n",
       "      <th>56</th>\n",
       "      <td>2020-08-08</td>\n",
       "      <td>Central East</td>\n",
       "      <td>3</td>\n",
       "      <td>0.0</td>\n",
       "      <td>0.0</td>\n",
       "      <td>26.0</td>\n",
       "      <td>1.0</td>\n",
       "      <td>0</td>\n",
       "    </tr>\n",
       "  </tbody>\n",
       "</table>\n",
       "</div>"
      ],
      "text/plain": [
       "         Date        Region  Active Cases  Inpatient Hospitalizations  \\\n",
       "0  2020-08-04  Central East             3                         0.0   \n",
       "14 2020-08-05  Central East             3                         1.0   \n",
       "28 2020-08-06  Central East             3                         1.0   \n",
       "42 2020-08-07  Central East             5                         1.0   \n",
       "56 2020-08-08  Central East             3                         0.0   \n",
       "\n",
       "    ICU Hospitalizations  Recovered Cases  Deaths  New Cases  \n",
       "0                    0.0             24.0     1.0          0  \n",
       "14                   0.0             24.0     1.0          0  \n",
       "28                   0.0             24.0     1.0          0  \n",
       "42                   0.0             24.0     1.0          2  \n",
       "56                   0.0             26.0     1.0          0  "
      ]
     },
     "execution_count": 18,
     "metadata": {},
     "output_type": "execute_result"
    }
   ],
   "source": [
    "#Filtering out data by province and creating a separate dataframe for each\n",
    "\n",
    "#0          Central East\n",
    "#1          Central West\n",
    "#2     Far North Central\n",
    "#3        Far North East\n",
    "#4        Far North West\n",
    "#5         North Central\n",
    "#6            North East\n",
    "#7            North West\n",
    "#8                Regina\n",
    "#9             Saskatoon\n",
    "#10        South Central\n",
    "#11           South East\n",
    "#12           South West\n",
    "\n",
    "covid_df_CentraEast = covid_df_groupReg[covid_df_groupReg[\"Region\"] == \"Central East\"]\n",
    "covid_df_CentraEast.info()\n",
    "covid_df_CentraEast.head()"
   ]
  },
  {
   "cell_type": "code",
   "execution_count": 19,
   "id": "a5b9ba54-6c82-49fc-92ef-65a8767bd92e",
   "metadata": {},
   "outputs": [
    {
     "data": {
      "text/html": [
       "<div>\n",
       "<style scoped>\n",
       "    .dataframe tbody tr th:only-of-type {\n",
       "        vertical-align: middle;\n",
       "    }\n",
       "\n",
       "    .dataframe tbody tr th {\n",
       "        vertical-align: top;\n",
       "    }\n",
       "\n",
       "    .dataframe thead th {\n",
       "        text-align: right;\n",
       "    }\n",
       "</style>\n",
       "<table border=\"1\" class=\"dataframe\">\n",
       "  <thead>\n",
       "    <tr style=\"text-align: right;\">\n",
       "      <th></th>\n",
       "      <th>Region</th>\n",
       "      <th>Active Cases</th>\n",
       "      <th>Inpatient Hospitalizations</th>\n",
       "      <th>ICU Hospitalizations</th>\n",
       "      <th>Recovered Cases</th>\n",
       "      <th>Deaths</th>\n",
       "      <th>New Cases</th>\n",
       "    </tr>\n",
       "    <tr>\n",
       "      <th>Date</th>\n",
       "      <th></th>\n",
       "      <th></th>\n",
       "      <th></th>\n",
       "      <th></th>\n",
       "      <th></th>\n",
       "      <th></th>\n",
       "      <th></th>\n",
       "    </tr>\n",
       "  </thead>\n",
       "  <tbody>\n",
       "    <tr>\n",
       "      <th>2020-08-04</th>\n",
       "      <td>Central East</td>\n",
       "      <td>3</td>\n",
       "      <td>0.0</td>\n",
       "      <td>0.0</td>\n",
       "      <td>24.0</td>\n",
       "      <td>1.0</td>\n",
       "      <td>0</td>\n",
       "    </tr>\n",
       "    <tr>\n",
       "      <th>2020-08-05</th>\n",
       "      <td>Central East</td>\n",
       "      <td>3</td>\n",
       "      <td>1.0</td>\n",
       "      <td>0.0</td>\n",
       "      <td>24.0</td>\n",
       "      <td>1.0</td>\n",
       "      <td>0</td>\n",
       "    </tr>\n",
       "    <tr>\n",
       "      <th>2020-08-06</th>\n",
       "      <td>Central East</td>\n",
       "      <td>3</td>\n",
       "      <td>1.0</td>\n",
       "      <td>0.0</td>\n",
       "      <td>24.0</td>\n",
       "      <td>1.0</td>\n",
       "      <td>0</td>\n",
       "    </tr>\n",
       "    <tr>\n",
       "      <th>2020-08-07</th>\n",
       "      <td>Central East</td>\n",
       "      <td>5</td>\n",
       "      <td>1.0</td>\n",
       "      <td>0.0</td>\n",
       "      <td>24.0</td>\n",
       "      <td>1.0</td>\n",
       "      <td>2</td>\n",
       "    </tr>\n",
       "    <tr>\n",
       "      <th>2020-08-08</th>\n",
       "      <td>Central East</td>\n",
       "      <td>3</td>\n",
       "      <td>0.0</td>\n",
       "      <td>0.0</td>\n",
       "      <td>26.0</td>\n",
       "      <td>1.0</td>\n",
       "      <td>0</td>\n",
       "    </tr>\n",
       "    <tr>\n",
       "      <th>...</th>\n",
       "      <td>...</td>\n",
       "      <td>...</td>\n",
       "      <td>...</td>\n",
       "      <td>...</td>\n",
       "      <td>...</td>\n",
       "      <td>...</td>\n",
       "      <td>...</td>\n",
       "    </tr>\n",
       "    <tr>\n",
       "      <th>2022-02-02</th>\n",
       "      <td>Central East</td>\n",
       "      <td>780</td>\n",
       "      <td>12.0</td>\n",
       "      <td>4.0</td>\n",
       "      <td>6631.0</td>\n",
       "      <td>67.0</td>\n",
       "      <td>46</td>\n",
       "    </tr>\n",
       "    <tr>\n",
       "      <th>2022-02-03</th>\n",
       "      <td>Central East</td>\n",
       "      <td>791</td>\n",
       "      <td>19.0</td>\n",
       "      <td>3.0</td>\n",
       "      <td>6703.0</td>\n",
       "      <td>70.0</td>\n",
       "      <td>69</td>\n",
       "    </tr>\n",
       "    <tr>\n",
       "      <th>2022-02-04</th>\n",
       "      <td>Central East</td>\n",
       "      <td>758</td>\n",
       "      <td>17.0</td>\n",
       "      <td>2.0</td>\n",
       "      <td>6773.0</td>\n",
       "      <td>71.0</td>\n",
       "      <td>32</td>\n",
       "    </tr>\n",
       "    <tr>\n",
       "      <th>2022-02-05</th>\n",
       "      <td>Central East</td>\n",
       "      <td>726</td>\n",
       "      <td>18.0</td>\n",
       "      <td>1.0</td>\n",
       "      <td>6875.0</td>\n",
       "      <td>71.0</td>\n",
       "      <td>62</td>\n",
       "    </tr>\n",
       "    <tr>\n",
       "      <th>2022-02-06</th>\n",
       "      <td>Central East</td>\n",
       "      <td>668</td>\n",
       "      <td>16.0</td>\n",
       "      <td>1.0</td>\n",
       "      <td>6965.0</td>\n",
       "      <td>72.0</td>\n",
       "      <td>28</td>\n",
       "    </tr>\n",
       "  </tbody>\n",
       "</table>\n",
       "<p>552 rows × 7 columns</p>\n",
       "</div>"
      ],
      "text/plain": [
       "                  Region  Active Cases  Inpatient Hospitalizations  \\\n",
       "Date                                                                 \n",
       "2020-08-04  Central East             3                         0.0   \n",
       "2020-08-05  Central East             3                         1.0   \n",
       "2020-08-06  Central East             3                         1.0   \n",
       "2020-08-07  Central East             5                         1.0   \n",
       "2020-08-08  Central East             3                         0.0   \n",
       "...                  ...           ...                         ...   \n",
       "2022-02-02  Central East           780                        12.0   \n",
       "2022-02-03  Central East           791                        19.0   \n",
       "2022-02-04  Central East           758                        17.0   \n",
       "2022-02-05  Central East           726                        18.0   \n",
       "2022-02-06  Central East           668                        16.0   \n",
       "\n",
       "            ICU Hospitalizations  Recovered Cases  Deaths  New Cases  \n",
       "Date                                                                  \n",
       "2020-08-04                   0.0             24.0     1.0          0  \n",
       "2020-08-05                   0.0             24.0     1.0          0  \n",
       "2020-08-06                   0.0             24.0     1.0          0  \n",
       "2020-08-07                   0.0             24.0     1.0          2  \n",
       "2020-08-08                   0.0             26.0     1.0          0  \n",
       "...                          ...              ...     ...        ...  \n",
       "2022-02-02                   4.0           6631.0    67.0         46  \n",
       "2022-02-03                   3.0           6703.0    70.0         69  \n",
       "2022-02-04                   2.0           6773.0    71.0         32  \n",
       "2022-02-05                   1.0           6875.0    71.0         62  \n",
       "2022-02-06                   1.0           6965.0    72.0         28  \n",
       "\n",
       "[552 rows x 7 columns]"
      ]
     },
     "execution_count": 19,
     "metadata": {},
     "output_type": "execute_result"
    }
   ],
   "source": [
    "#resetting the index\n",
    "covid_df_CentraEast.reset_index(drop=True)\n",
    "\n",
    "#set the index to be the date column\n",
    "covid_df_CentraEast_DateInd = covid_df_CentraEast.set_index(\"Date\")\n",
    "covid_df_CentraEast_DateInd"
   ]
  },
  {
   "cell_type": "code",
   "execution_count": 20,
   "id": "7a564064-3136-4fa6-99ae-680bbb1bc8a4",
   "metadata": {
    "tags": []
   },
   "outputs": [
    {
     "name": "stdout",
     "output_type": "stream",
     "text": [
      "<class 'pandas.core.frame.DataFrame'>\n",
      "DatetimeIndex: 552 entries, 2020-08-04 to 2022-02-06\n",
      "Data columns (total 1 columns):\n",
      " #   Column           Non-Null Count  Dtype  \n",
      "---  ------           --------------  -----  \n",
      " 0   Recovered Cases  552 non-null    float64\n",
      "dtypes: float64(1)\n",
      "memory usage: 8.6 KB\n"
     ]
    }
   ],
   "source": [
    "#Inpatient ICU Hospitalizations (CentralEast)\n",
    "covid_df_CentraEast_DateInd_ICU = covid_df_CentraEast_DateInd.iloc[: , 4:5]\n",
    "#covid_df_CentraEast_DateInd_ICU.tail()\n",
    "covid_df_CentraEast_DateInd_ICU.info()"
   ]
  },
  {
   "cell_type": "code",
   "execution_count": 21,
   "id": "6b0fa5b1-f55e-4cdf-812b-622eb2f155b5",
   "metadata": {},
   "outputs": [
    {
     "name": "stdout",
     "output_type": "stream",
     "text": [
      "        Date  Recovered Cases\n",
      "0 2020-08-04             24.0\n",
      "1 2020-08-05             24.0\n",
      "2 2020-08-06             24.0\n",
      "3 2020-08-07             24.0\n",
      "4 2020-08-08             26.0\n"
     ]
    }
   ],
   "source": [
    "#adding a new index in order to rename column\n",
    "covid_df_CentraEast_DateInd_ICU = covid_df_CentraEast_DateInd_ICU.reset_index()\n",
    "print(covid_df_CentraEast_DateInd_ICU.head())"
   ]
  },
  {
   "cell_type": "code",
   "execution_count": 22,
   "id": "66b1abe3-9ab8-4696-956a-d2dfcc58d00b",
   "metadata": {
    "tags": []
   },
   "outputs": [
    {
     "data": {
      "text/html": [
       "<div>\n",
       "<style scoped>\n",
       "    .dataframe tbody tr th:only-of-type {\n",
       "        vertical-align: middle;\n",
       "    }\n",
       "\n",
       "    .dataframe tbody tr th {\n",
       "        vertical-align: top;\n",
       "    }\n",
       "\n",
       "    .dataframe thead th {\n",
       "        text-align: right;\n",
       "    }\n",
       "</style>\n",
       "<table border=\"1\" class=\"dataframe\">\n",
       "  <thead>\n",
       "    <tr style=\"text-align: right;\">\n",
       "      <th></th>\n",
       "      <th>y</th>\n",
       "    </tr>\n",
       "    <tr>\n",
       "      <th>x</th>\n",
       "      <th></th>\n",
       "    </tr>\n",
       "  </thead>\n",
       "  <tbody>\n",
       "    <tr>\n",
       "      <th>2020-08-04</th>\n",
       "      <td>24.0</td>\n",
       "    </tr>\n",
       "    <tr>\n",
       "      <th>2020-08-05</th>\n",
       "      <td>24.0</td>\n",
       "    </tr>\n",
       "    <tr>\n",
       "      <th>2020-08-06</th>\n",
       "      <td>24.0</td>\n",
       "    </tr>\n",
       "    <tr>\n",
       "      <th>2020-08-07</th>\n",
       "      <td>24.0</td>\n",
       "    </tr>\n",
       "    <tr>\n",
       "      <th>2020-08-08</th>\n",
       "      <td>26.0</td>\n",
       "    </tr>\n",
       "    <tr>\n",
       "      <th>...</th>\n",
       "      <td>...</td>\n",
       "    </tr>\n",
       "    <tr>\n",
       "      <th>2022-02-02</th>\n",
       "      <td>6631.0</td>\n",
       "    </tr>\n",
       "    <tr>\n",
       "      <th>2022-02-03</th>\n",
       "      <td>6703.0</td>\n",
       "    </tr>\n",
       "    <tr>\n",
       "      <th>2022-02-04</th>\n",
       "      <td>6773.0</td>\n",
       "    </tr>\n",
       "    <tr>\n",
       "      <th>2022-02-05</th>\n",
       "      <td>6875.0</td>\n",
       "    </tr>\n",
       "    <tr>\n",
       "      <th>2022-02-06</th>\n",
       "      <td>6965.0</td>\n",
       "    </tr>\n",
       "  </tbody>\n",
       "</table>\n",
       "<p>552 rows × 1 columns</p>\n",
       "</div>"
      ],
      "text/plain": [
       "                 y\n",
       "x                 \n",
       "2020-08-04    24.0\n",
       "2020-08-05    24.0\n",
       "2020-08-06    24.0\n",
       "2020-08-07    24.0\n",
       "2020-08-08    26.0\n",
       "...            ...\n",
       "2022-02-02  6631.0\n",
       "2022-02-03  6703.0\n",
       "2022-02-04  6773.0\n",
       "2022-02-05  6875.0\n",
       "2022-02-06  6965.0\n",
       "\n",
       "[552 rows x 1 columns]"
      ]
     },
     "execution_count": 22,
     "metadata": {},
     "output_type": "execute_result"
    }
   ],
   "source": [
    "#Data preparation\n",
    "covid_df_CE_Inpatient = covid_df_CentraEast_DateInd_ICU.rename({'Date': 'x', 'Recovered Cases':'y'}, axis='columns')\n",
    "#covid_df_CE_Inpatient = covid_df_CE_Inpatient.asfreq('D')\n",
    "#covid_df_CE_Inpatient = covid_df_CE_Inpatient.sort_index()\n",
    "covid_df_CE_Inpatient.head()\n",
    "\n",
    "#set the index to be the date column\n",
    "covid_df_CE_Inpatient = covid_df_CE_Inpatient.set_index(\"x\")\n",
    "covid_df_CE_Inpatient"
   ]
  },
  {
   "cell_type": "code",
   "execution_count": 23,
   "id": "012b7d44-0bc4-419c-8511-f0f21e28c2e6",
   "metadata": {},
   "outputs": [
    {
     "data": {
      "text/plain": [
       "0.0"
      ]
     },
     "execution_count": 23,
     "metadata": {},
     "output_type": "execute_result"
    }
   ],
   "source": [
    "#checking number of missing values\n",
    "covid_df_CE_Inpatient.isnull().any(axis=1).mean()"
   ]
  },
  {
   "cell_type": "code",
   "execution_count": 24,
   "id": "5b698513-6d82-420d-a5f5-406701c09089",
   "metadata": {},
   "outputs": [
    {
     "data": {
      "text/plain": [
       "True"
      ]
     },
     "execution_count": 24,
     "metadata": {},
     "output_type": "execute_result"
    }
   ],
   "source": [
    "# Verify that a temporary index is complete\n",
    "# ==============================================================================\n",
    "(covid_df_CE_Inpatient.index == pd.date_range(start=covid_df_CE_Inpatient.index.min(),\n",
    "                             end=covid_df_CE_Inpatient.index.max(),\n",
    "                             freq=covid_df_CE_Inpatient.index.freq)).all()"
   ]
  },
  {
   "cell_type": "code",
   "execution_count": 25,
   "id": "436be493-9334-4717-a1db-786371277eab",
   "metadata": {},
   "outputs": [
    {
     "data": {
      "text/plain": [
       "array(['Central East', 'Central West', 'Far North Central',\n",
       "       'Far North East', 'Far North West', 'North Central', 'North East',\n",
       "       'North West', 'Regina', 'Saskatoon', 'South Central', 'South East',\n",
       "       'South West'], dtype=object)"
      ]
     },
     "execution_count": 25,
     "metadata": {},
     "output_type": "execute_result"
    }
   ],
   "source": [
    "number_regions"
   ]
  },
  {
   "cell_type": "code",
   "execution_count": 26,
   "id": "7576e7b4-ac7f-4bd8-9279-aa463daf07a9",
   "metadata": {},
   "outputs": [
    {
     "name": "stdout",
     "output_type": "stream",
     "text": [
      "Central East\n",
      "Central West\n",
      "Far North Central\n",
      "Far North East\n",
      "Far North West\n",
      "North Central\n",
      "North East\n",
      "North West\n",
      "Regina\n",
      "Saskatoon\n",
      "South Central\n",
      "South East\n",
      "South West\n"
     ]
    }
   ],
   "source": [
    "for i in number_regions:\n",
    "    print(i)"
   ]
  },
  {
   "cell_type": "markdown",
   "id": "8eda9ba5-702c-4407-a733-af2e50474d52",
   "metadata": {},
   "source": [
    "## Splitting Data into Training and Test Data"
   ]
  },
  {
   "cell_type": "code",
   "execution_count": 27,
   "id": "8ec9d18b-aa2e-410b-a085-3f1df62842ed",
   "metadata": {
    "tags": []
   },
   "outputs": [
    {
     "name": "stdout",
     "output_type": "stream",
     "text": [
      "Train dates : 2020-08-04 00:00:00 --- 2021-10-19 00:00:00  (n=442)\n",
      "Test dates  : 2021-10-20 00:00:00 --- 2022-02-06 00:00:00  (n=110)\n"
     ]
    },
    {
     "data": {
      "image/png": "[encoded data removed]",
      "text/plain": [
       "<Figure size 648x288 with 1 Axes>"
      ]
     },
     "metadata": {
      "needs_background": "light"
     },
     "output_type": "display_data"
    }
   ],
   "source": [
    "#Using the 80-20 training-test split of the 552 days. Therefore, the last 110 days are used to evaluate or test the model, while first 442 are for training.\n",
    "#552*0.2=110.4\n",
    "\n",
    "# Split data into train-test\n",
    "# ==============================================================================\n",
    "steps = 110                    #no. of future steps predicted.\n",
    "data_train = covid_df_CE_Inpatient[:-steps]\n",
    "data_test  = covid_df_CE_Inpatient[-steps:]\n",
    "\n",
    "print(f\"Train dates : {data_train.index.min()} --- {data_train.index.max()}  (n={len(data_train)})\")\n",
    "print(f\"Test dates  : {data_test.index.min()} --- {data_test.index.max()}  (n={len(data_test)})\")\n",
    "\n",
    "#Plotting the training data and test data out of the entire data for the Central East Region\n",
    "fig, ax=plt.subplots(figsize=(9, 4))\n",
    "data_train['y'].plot(ax=ax, label='train')\n",
    "data_test['y'].plot(ax=ax, label='test')\n",
    "ax.legend();"
   ]
  },
  {
   "cell_type": "markdown",
   "id": "29fee9a9-5c91-4db0-bb59-3cb765e3bf25",
   "metadata": {},
   "source": [
    "## Creating and Training the Forecasting Model"
   ]
  },
  {
   "cell_type": "code",
   "execution_count": 28,
   "id": "36449e03-3d82-4b35-8a06-b9a34cca34e5",
   "metadata": {},
   "outputs": [
    {
     "data": {
      "text/plain": [
       "x\n",
       "2020-08-04      24.0\n",
       "2020-08-05      24.0\n",
       "2020-08-06      24.0\n",
       "2020-08-07      24.0\n",
       "2020-08-08      26.0\n",
       "               ...  \n",
       "2021-10-15    3277.0\n",
       "2021-10-16    3294.0\n",
       "2021-10-17    3344.0\n",
       "2021-10-18    3388.0\n",
       "2021-10-19    3428.0\n",
       "Name: y, Length: 442, dtype: float64"
      ]
     },
     "execution_count": 28,
     "metadata": {},
     "output_type": "execute_result"
    }
   ],
   "source": [
    "len(data_train)\n",
    "data_train['y']\n",
    "#data_train.head()"
   ]
  },
  {
   "cell_type": "code",
   "execution_count": 29,
   "id": "dd78e9c8-7f22-48ee-bc2d-1c2dec53c0fe",
   "metadata": {},
   "outputs": [
    {
     "data": {
      "text/plain": [
       "110"
      ]
     },
     "execution_count": 29,
     "metadata": {},
     "output_type": "execute_result"
    }
   ],
   "source": [
    "len(data_test)"
   ]
  },
  {
   "cell_type": "code",
   "execution_count": 30,
   "id": "ce4e74c5-77ec-41ad-9091-ffa4f3a1cf3f",
   "metadata": {
    "tags": []
   },
   "outputs": [],
   "source": [
    "#The ForecasterAutoreg class, a model is created and trained from a RandomForestRegressor regressor with a time window of 442--441 lags (because it has to be less than 442). \n",
    "#The model uses the previous 110 days as predictors."
   ]
  },
  {
   "cell_type": "markdown",
   "id": "e1ca319e-6ea9-4403-8359-15fe3ee3a92f",
   "metadata": {},
   "source": [
    "## Create and train forecaster using the datetime index"
   ]
  },
  {
   "cell_type": "code",
   "execution_count": 31,
   "id": "fc05e136-a992-4ebf-858c-1f600490ff58",
   "metadata": {},
   "outputs": [
    {
     "name": "stderr",
     "output_type": "stream",
     "text": [
      "C:\\Users\\jngai\\anaconda3\\lib\\site-packages\\skforecast\\utils\\utils.py:360: UserWarning: `y` has DatetimeIndex index but no frequency. Index is overwritten with a RangeIndex of step 1.\n",
      "  warnings.warn(\n",
      "C:\\Users\\jngai\\anaconda3\\lib\\site-packages\\skforecast\\utils\\utils.py:360: UserWarning: `y` has DatetimeIndex index but no frequency. Index is overwritten with a RangeIndex of step 1.\n",
      "  warnings.warn(\n"
     ]
    },
    {
     "data": {
      "text/plain": [
       "================= \n",
       "ForecasterAutoreg \n",
       "================= \n",
       "Regressor: RandomForestRegressor(random_state=123) \n",
       "Lags: [  1   2   3   4   5   6   7   8   9  10  11  12  13  14  15  16  17  18\n",
       "  19  20  21  22  23  24  25  26  27  28  29  30  31  32  33  34  35  36\n",
       "  37  38  39  40  41  42  43  44  45  46  47  48  49  50  51  52  53  54\n",
       "  55  56  57  58  59  60  61  62  63  64  65  66  67  68  69  70  71  72\n",
       "  73  74  75  76  77  78  79  80  81  82  83  84  85  86  87  88  89  90\n",
       "  91  92  93  94  95  96  97  98  99 100 101 102 103 104 105 106 107 108\n",
       " 109 110] \n",
       "Transformer for y: None \n",
       "Transformer for exog: None \n",
       "Window size: 110 \n",
       "Included exogenous: False \n",
       "Type of exogenous variable: None \n",
       "Exogenous variables names: None \n",
       "Training range: [0, 441] \n",
       "Training index type: RangeIndex \n",
       "Training index frequency: 1 \n",
       "Regressor parameters: {'bootstrap': True, 'ccp_alpha': 0.0, 'criterion': 'squared_error', 'max_depth': None, 'max_features': 1.0, 'max_leaf_nodes': None, 'max_samples': None, 'min_impurity_decrease': 0.0, 'min_samples_leaf': 1, 'min_samples_split': 2, 'min_weight_fraction_leaf': 0.0, 'n_estimators': 100, 'n_jobs': None, 'oob_score': False, 'random_state': 123, 'verbose': 0, 'warm_start': False} \n",
       "Creation date: 2022-10-22 08:59:59 \n",
       "Last fit date: 2022-10-22 09:00:01 \n",
       "Skforecast version: 0.5.1 \n",
       "Python version: 3.9.7 "
      ]
     },
     "execution_count": 31,
     "metadata": {},
     "output_type": "execute_result"
    }
   ],
   "source": [
    "# Create and train forecaster using the datetime index.\n",
    "#Here, we use the Random Forest model with default hyperparameters and a lag of 441.\n",
    "\n",
    "forecaster = ForecasterAutoreg(\n",
    "                regressor = RandomForestRegressor(random_state=123),\n",
    "                lags      = 110  #using the previous 110 days in the training data as predictors\n",
    "             )\n",
    "\n",
    "forecaster.fit(y=data_train['y'])\n",
    "forecaster"
   ]
  },
  {
   "cell_type": "markdown",
   "id": "b597c454-bb44-40f0-9300-5d2466de9676",
   "metadata": {},
   "source": [
    "## Prediction using the datetime index"
   ]
  },
  {
   "cell_type": "code",
   "execution_count": 32,
   "id": "e72debf8-9e86-4325-8645-2019d30238d3",
   "metadata": {},
   "outputs": [
    {
     "name": "stderr",
     "output_type": "stream",
     "text": [
      "C:\\Users\\jngai\\anaconda3\\lib\\site-packages\\skforecast\\utils\\utils.py:417: UserWarning: `last_window` has DatetimeIndex index but no frequency. Index is overwritten with a RangeIndex of step 1.\n",
      "  warnings.warn(\n"
     ]
    },
    {
     "data": {
      "text/plain": [
       "110    3399.18\n",
       "111    3397.00\n",
       "112    3398.34\n",
       "113    3400.59\n",
       "114    3402.37\n",
       "        ...   \n",
       "215    3404.44\n",
       "216    3404.44\n",
       "217    3404.44\n",
       "218    3404.44\n",
       "219    3404.44\n",
       "Name: pred, Length: 110, dtype: float64"
      ]
     },
     "execution_count": 32,
     "metadata": {},
     "output_type": "execute_result"
    }
   ],
   "source": [
    "#Making predictions 110 days into the future, using the trained model.\n",
    "\n",
    "steps = 110\n",
    "predictions = forecaster.predict(steps=steps)\n",
    "predictions.head(111)"
   ]
  },
  {
   "cell_type": "markdown",
   "id": "cac54867-e5f4-4387-87a8-9c3998019cd1",
   "metadata": {},
   "source": [
    "## Training without the datetime index"
   ]
  },
  {
   "cell_type": "code",
   "execution_count": 33,
   "id": "e4656dd8-3ed9-43b1-a8e8-0d43e734cf3a",
   "metadata": {},
   "outputs": [
    {
     "name": "stderr",
     "output_type": "stream",
     "text": [
      "C:\\Users\\jngai\\anaconda3\\lib\\site-packages\\skforecast\\utils\\utils.py:360: UserWarning: `y` has DatetimeIndex index but no frequency. Index is overwritten with a RangeIndex of step 1.\n",
      "  warnings.warn(\n",
      "C:\\Users\\jngai\\anaconda3\\lib\\site-packages\\skforecast\\utils\\utils.py:360: UserWarning: `y` has DatetimeIndex index but no frequency. Index is overwritten with a RangeIndex of step 1.\n",
      "  warnings.warn(\n",
      "C:\\Users\\jngai\\anaconda3\\lib\\site-packages\\skforecast\\utils\\utils.py:417: UserWarning: `last_window` has DatetimeIndex index but no frequency. Index is overwritten with a RangeIndex of step 1.\n",
      "  warnings.warn(\n"
     ]
    },
    {
     "data": {
      "text/plain": [
       "110    3399.18\n",
       "111    3397.00\n",
       "112    3398.34\n",
       "113    3400.59\n",
       "114    3402.37\n",
       "        ...   \n",
       "215    3404.44\n",
       "216    3404.44\n",
       "217    3404.44\n",
       "218    3404.44\n",
       "219    3404.44\n",
       "Name: pred, Length: 110, dtype: float64"
      ]
     },
     "execution_count": 33,
     "metadata": {},
     "output_type": "execute_result"
    }
   ],
   "source": [
    "#Training without the datetime index\n",
    "forecaster.fit(y=data_train['y'])\n",
    "forecaster.predict(steps=110)"
   ]
  },
  {
   "cell_type": "code",
   "execution_count": 34,
   "id": "cdceaaea-137f-4e9b-b88d-27e19716ea88",
   "metadata": {},
   "outputs": [
    {
     "data": {
      "text/html": [
       "<div>\n",
       "<style scoped>\n",
       "    .dataframe tbody tr th:only-of-type {\n",
       "        vertical-align: middle;\n",
       "    }\n",
       "\n",
       "    .dataframe tbody tr th {\n",
       "        vertical-align: top;\n",
       "    }\n",
       "\n",
       "    .dataframe thead th {\n",
       "        text-align: right;\n",
       "    }\n",
       "</style>\n",
       "<table border=\"1\" class=\"dataframe\">\n",
       "  <thead>\n",
       "    <tr style=\"text-align: right;\">\n",
       "      <th></th>\n",
       "      <th>predicted_y</th>\n",
       "    </tr>\n",
       "    <tr>\n",
       "      <th>x</th>\n",
       "      <th></th>\n",
       "    </tr>\n",
       "  </thead>\n",
       "  <tbody>\n",
       "    <tr>\n",
       "      <th>2021-10-20</th>\n",
       "      <td>3399.18</td>\n",
       "    </tr>\n",
       "    <tr>\n",
       "      <th>2021-10-21</th>\n",
       "      <td>3397.00</td>\n",
       "    </tr>\n",
       "    <tr>\n",
       "      <th>2021-10-22</th>\n",
       "      <td>3398.34</td>\n",
       "    </tr>\n",
       "    <tr>\n",
       "      <th>2021-10-23</th>\n",
       "      <td>3400.59</td>\n",
       "    </tr>\n",
       "    <tr>\n",
       "      <th>2021-10-24</th>\n",
       "      <td>3402.37</td>\n",
       "    </tr>\n",
       "    <tr>\n",
       "      <th>...</th>\n",
       "      <td>...</td>\n",
       "    </tr>\n",
       "    <tr>\n",
       "      <th>2022-02-02</th>\n",
       "      <td>3404.44</td>\n",
       "    </tr>\n",
       "    <tr>\n",
       "      <th>2022-02-03</th>\n",
       "      <td>3404.44</td>\n",
       "    </tr>\n",
       "    <tr>\n",
       "      <th>2022-02-04</th>\n",
       "      <td>3404.44</td>\n",
       "    </tr>\n",
       "    <tr>\n",
       "      <th>2022-02-05</th>\n",
       "      <td>3404.44</td>\n",
       "    </tr>\n",
       "    <tr>\n",
       "      <th>2022-02-06</th>\n",
       "      <td>3404.44</td>\n",
       "    </tr>\n",
       "  </tbody>\n",
       "</table>\n",
       "<p>110 rows × 1 columns</p>\n",
       "</div>"
      ],
      "text/plain": [
       "            predicted_y\n",
       "x                      \n",
       "2021-10-20      3399.18\n",
       "2021-10-21      3397.00\n",
       "2021-10-22      3398.34\n",
       "2021-10-23      3400.59\n",
       "2021-10-24      3402.37\n",
       "...                 ...\n",
       "2022-02-02      3404.44\n",
       "2022-02-03      3404.44\n",
       "2022-02-04      3404.44\n",
       "2022-02-05      3404.44\n",
       "2022-02-06      3404.44\n",
       "\n",
       "[110 rows x 1 columns]"
      ]
     },
     "execution_count": 34,
     "metadata": {},
     "output_type": "execute_result"
    }
   ],
   "source": [
    "#Adding a date index to the predicted values\n",
    "\n",
    "#Train dates : 2020-08-04 00:00:00 --- 2021-10-19 00:00:00  (n=442)\n",
    "#Test dates  : 2021-10-20 00:00:00 --- 2022-02-06 00:00:00  (n=110)\n",
    "                                                            \n",
    "#convert series to dataframe\n",
    "df = predictions.to_frame(name='predicted_y')\n",
    "df\n",
    "\n",
    "index = pd.date_range('2021-10-20', periods=110, freq='D')\n",
    "df['x']=index\n",
    "df.head()\n",
    "\n",
    "#set the index to be the x column\n",
    "predicted_df = df.set_index(\"x\")\n",
    "predicted_df"
   ]
  },
  {
   "cell_type": "code",
   "execution_count": 35,
   "id": "2016f14b-3316-46e1-b9b7-00e1d451e773",
   "metadata": {},
   "outputs": [
    {
     "data": {
      "image/png": "[encoded data removed]",
      "text/plain": [
       "<Figure size 648x288 with 1 Axes>"
      ]
     },
     "metadata": {
      "needs_background": "light"
     },
     "output_type": "display_data"
    }
   ],
   "source": [
    "#Plotting the actual data for the first 442 days and the actual vs predicted for the remaining 110 days\n",
    "fig, ax = plt.subplots(figsize=(9, 4))\n",
    "data_train['y'].plot(ax=ax, label='train')\n",
    "data_test['y'].plot(ax=ax, label='test')\n",
    "predicted_df['predicted_y'].plot(ax=ax, label='predictions')\n",
    "ax.legend();"
   ]
  },
  {
   "cell_type": "code",
   "execution_count": 36,
   "id": "738c259e-ff2b-4bb8-b7b6-34e9c57f4a78",
   "metadata": {
    "tags": []
   },
   "outputs": [],
   "source": [
    "#url:https://joaquinamatrodrigo.github.io/skforecast/0.4.3/notebooks/input-data.html"
   ]
  },
  {
   "cell_type": "markdown",
   "id": "a6e755c8-6429-41c4-97fd-03ad9b6df54c",
   "metadata": {},
   "source": [
    "## Quantifying the error made in the prediction"
   ]
  },
  {
   "cell_type": "code",
   "execution_count": 37,
   "id": "e8a505a7-71f2-4efd-866b-26dd547d3dbe",
   "metadata": {},
   "outputs": [
    {
     "name": "stdout",
     "output_type": "stream",
     "text": [
      "Test error (mse): 2328265.7647318183\n"
     ]
    }
   ],
   "source": [
    "# Test error\n",
    "# ==============================================================================\n",
    "error_mse = mean_squared_error(\n",
    "                y_true = data_test['y'],\n",
    "                y_pred = predicted_df['predicted_y']\n",
    "            )\n",
    "\n",
    "print(f\"Test error (mse): {error_mse}\")"
   ]
  },
  {
   "cell_type": "markdown",
   "id": "c4c52463-c6ef-4067-bcfc-b3bf26e9e78a",
   "metadata": {},
   "source": [
    "## Tuning the Hyperparameter"
   ]
  },
  {
   "cell_type": "markdown",
   "id": "5e3ce485-949f-4cd6-bfc1-1ce7f6a1d568",
   "metadata": {},
   "source": [
    "#### Finding the best combination of lags and hyperparameters using the the grid_search_forecaster function in the Skforecast library."
   ]
  },
  {
   "cell_type": "code",
   "execution_count": 38,
   "id": "d529388e-212f-4c65-a85c-3606d8bb4637",
   "metadata": {},
   "outputs": [
    {
     "name": "stdout",
     "output_type": "stream",
     "text": [
      "Number of models compared: 12.\n"
     ]
    },
    {
     "name": "stderr",
     "output_type": "stream",
     "text": [
      "loop lags_grid:   0%|                                               | 0/2 [00:00<?, ?it/s]\n",
      "loop param_grid:   0%|                                              | 0/6 [00:00<?, ?it/s]\u001b[AC:\\Users\\jngai\\anaconda3\\lib\\site-packages\\skforecast\\utils\\utils.py:360: UserWarning: `y` has DatetimeIndex index but no frequency. Index is overwritten with a RangeIndex of step 1.\n",
      "  warnings.warn(\n",
      "C:\\Users\\jngai\\anaconda3\\lib\\site-packages\\skforecast\\utils\\utils.py:360: UserWarning: `y` has DatetimeIndex index but no frequency. Index is overwritten with a RangeIndex of step 1.\n",
      "  warnings.warn(\n",
      "C:\\Users\\jngai\\anaconda3\\lib\\site-packages\\skforecast\\utils\\utils.py:417: UserWarning: `last_window` has DatetimeIndex index but no frequency. Index is overwritten with a RangeIndex of step 1.\n",
      "  warnings.warn(\n",
      "C:\\Users\\jngai\\anaconda3\\lib\\site-packages\\skforecast\\utils\\utils.py:360: UserWarning: `y` has DatetimeIndex index but no frequency. Index is overwritten with a RangeIndex of step 1.\n",
      "  warnings.warn(\n",
      "C:\\Users\\jngai\\anaconda3\\lib\\site-packages\\skforecast\\utils\\utils.py:360: UserWarning: `y` has DatetimeIndex index but no frequency. Index is overwritten with a RangeIndex of step 1.\n",
      "  warnings.warn(\n",
      "C:\\Users\\jngai\\anaconda3\\lib\\site-packages\\skforecast\\utils\\utils.py:417: UserWarning: `last_window` has DatetimeIndex index but no frequency. Index is overwritten with a RangeIndex of step 1.\n",
      "  warnings.warn(\n",
      "C:\\Users\\jngai\\anaconda3\\lib\\site-packages\\skforecast\\utils\\utils.py:360: UserWarning: `y` has DatetimeIndex index but no frequency. Index is overwritten with a RangeIndex of step 1.\n",
      "  warnings.warn(\n",
      "C:\\Users\\jngai\\anaconda3\\lib\\site-packages\\skforecast\\utils\\utils.py:360: UserWarning: `y` has DatetimeIndex index but no frequency. Index is overwritten with a RangeIndex of step 1.\n",
      "  warnings.warn(\n",
      "C:\\Users\\jngai\\anaconda3\\lib\\site-packages\\skforecast\\utils\\utils.py:417: UserWarning: `last_window` has DatetimeIndex index but no frequency. Index is overwritten with a RangeIndex of step 1.\n",
      "  warnings.warn(\n",
      "\n",
      "loop param_grid:  17%|██████▎                               | 1/6 [00:00<00:02,  1.72it/s]\u001b[AC:\\Users\\jngai\\anaconda3\\lib\\site-packages\\skforecast\\utils\\utils.py:360: UserWarning: `y` has DatetimeIndex index but no frequency. Index is overwritten with a RangeIndex of step 1.\n",
      "  warnings.warn(\n",
      "C:\\Users\\jngai\\anaconda3\\lib\\site-packages\\skforecast\\utils\\utils.py:360: UserWarning: `y` has DatetimeIndex index but no frequency. Index is overwritten with a RangeIndex of step 1.\n",
      "  warnings.warn(\n",
      "C:\\Users\\jngai\\anaconda3\\lib\\site-packages\\skforecast\\utils\\utils.py:417: UserWarning: `last_window` has DatetimeIndex index but no frequency. Index is overwritten with a RangeIndex of step 1.\n",
      "  warnings.warn(\n",
      "C:\\Users\\jngai\\anaconda3\\lib\\site-packages\\skforecast\\utils\\utils.py:360: UserWarning: `y` has DatetimeIndex index but no frequency. Index is overwritten with a RangeIndex of step 1.\n",
      "  warnings.warn(\n",
      "C:\\Users\\jngai\\anaconda3\\lib\\site-packages\\skforecast\\utils\\utils.py:360: UserWarning: `y` has DatetimeIndex index but no frequency. Index is overwritten with a RangeIndex of step 1.\n",
      "  warnings.warn(\n",
      "C:\\Users\\jngai\\anaconda3\\lib\\site-packages\\skforecast\\utils\\utils.py:417: UserWarning: `last_window` has DatetimeIndex index but no frequency. Index is overwritten with a RangeIndex of step 1.\n",
      "  warnings.warn(\n",
      "C:\\Users\\jngai\\anaconda3\\lib\\site-packages\\skforecast\\utils\\utils.py:360: UserWarning: `y` has DatetimeIndex index but no frequency. Index is overwritten with a RangeIndex of step 1.\n",
      "  warnings.warn(\n",
      "C:\\Users\\jngai\\anaconda3\\lib\\site-packages\\skforecast\\utils\\utils.py:360: UserWarning: `y` has DatetimeIndex index but no frequency. Index is overwritten with a RangeIndex of step 1.\n",
      "  warnings.warn(\n",
      "C:\\Users\\jngai\\anaconda3\\lib\\site-packages\\skforecast\\utils\\utils.py:417: UserWarning: `last_window` has DatetimeIndex index but no frequency. Index is overwritten with a RangeIndex of step 1.\n",
      "  warnings.warn(\n",
      "\n",
      "loop param_grid:  33%|████████████▋                         | 2/6 [00:03<00:06,  1.67s/it]\u001b[AC:\\Users\\jngai\\anaconda3\\lib\\site-packages\\skforecast\\utils\\utils.py:360: UserWarning: `y` has DatetimeIndex index but no frequency. Index is overwritten with a RangeIndex of step 1.\n",
      "  warnings.warn(\n",
      "C:\\Users\\jngai\\anaconda3\\lib\\site-packages\\skforecast\\utils\\utils.py:360: UserWarning: `y` has DatetimeIndex index but no frequency. Index is overwritten with a RangeIndex of step 1.\n",
      "  warnings.warn(\n",
      "C:\\Users\\jngai\\anaconda3\\lib\\site-packages\\skforecast\\utils\\utils.py:417: UserWarning: `last_window` has DatetimeIndex index but no frequency. Index is overwritten with a RangeIndex of step 1.\n",
      "  warnings.warn(\n",
      "C:\\Users\\jngai\\anaconda3\\lib\\site-packages\\skforecast\\utils\\utils.py:360: UserWarning: `y` has DatetimeIndex index but no frequency. Index is overwritten with a RangeIndex of step 1.\n",
      "  warnings.warn(\n",
      "C:\\Users\\jngai\\anaconda3\\lib\\site-packages\\skforecast\\utils\\utils.py:360: UserWarning: `y` has DatetimeIndex index but no frequency. Index is overwritten with a RangeIndex of step 1.\n",
      "  warnings.warn(\n",
      "C:\\Users\\jngai\\anaconda3\\lib\\site-packages\\skforecast\\utils\\utils.py:417: UserWarning: `last_window` has DatetimeIndex index but no frequency. Index is overwritten with a RangeIndex of step 1.\n",
      "  warnings.warn(\n",
      "C:\\Users\\jngai\\anaconda3\\lib\\site-packages\\skforecast\\utils\\utils.py:360: UserWarning: `y` has DatetimeIndex index but no frequency. Index is overwritten with a RangeIndex of step 1.\n",
      "  warnings.warn(\n",
      "C:\\Users\\jngai\\anaconda3\\lib\\site-packages\\skforecast\\utils\\utils.py:360: UserWarning: `y` has DatetimeIndex index but no frequency. Index is overwritten with a RangeIndex of step 1.\n",
      "  warnings.warn(\n",
      "C:\\Users\\jngai\\anaconda3\\lib\\site-packages\\skforecast\\utils\\utils.py:417: UserWarning: `last_window` has DatetimeIndex index but no frequency. Index is overwritten with a RangeIndex of step 1.\n",
      "  warnings.warn(\n",
      "\n",
      "loop param_grid:  50%|███████████████████                   | 3/6 [00:03<00:03,  1.21s/it]\u001b[AC:\\Users\\jngai\\anaconda3\\lib\\site-packages\\skforecast\\utils\\utils.py:360: UserWarning: `y` has DatetimeIndex index but no frequency. Index is overwritten with a RangeIndex of step 1.\n",
      "  warnings.warn(\n",
      "C:\\Users\\jngai\\anaconda3\\lib\\site-packages\\skforecast\\utils\\utils.py:360: UserWarning: `y` has DatetimeIndex index but no frequency. Index is overwritten with a RangeIndex of step 1.\n",
      "  warnings.warn(\n",
      "C:\\Users\\jngai\\anaconda3\\lib\\site-packages\\skforecast\\utils\\utils.py:417: UserWarning: `last_window` has DatetimeIndex index but no frequency. Index is overwritten with a RangeIndex of step 1.\n",
      "  warnings.warn(\n",
      "C:\\Users\\jngai\\anaconda3\\lib\\site-packages\\skforecast\\utils\\utils.py:360: UserWarning: `y` has DatetimeIndex index but no frequency. Index is overwritten with a RangeIndex of step 1.\n",
      "  warnings.warn(\n",
      "C:\\Users\\jngai\\anaconda3\\lib\\site-packages\\skforecast\\utils\\utils.py:360: UserWarning: `y` has DatetimeIndex index but no frequency. Index is overwritten with a RangeIndex of step 1.\n",
      "  warnings.warn(\n",
      "C:\\Users\\jngai\\anaconda3\\lib\\site-packages\\skforecast\\utils\\utils.py:417: UserWarning: `last_window` has DatetimeIndex index but no frequency. Index is overwritten with a RangeIndex of step 1.\n",
      "  warnings.warn(\n",
      "C:\\Users\\jngai\\anaconda3\\lib\\site-packages\\skforecast\\utils\\utils.py:360: UserWarning: `y` has DatetimeIndex index but no frequency. Index is overwritten with a RangeIndex of step 1.\n",
      "  warnings.warn(\n",
      "C:\\Users\\jngai\\anaconda3\\lib\\site-packages\\skforecast\\utils\\utils.py:360: UserWarning: `y` has DatetimeIndex index but no frequency. Index is overwritten with a RangeIndex of step 1.\n",
      "  warnings.warn(\n",
      "C:\\Users\\jngai\\anaconda3\\lib\\site-packages\\skforecast\\utils\\utils.py:417: UserWarning: `last_window` has DatetimeIndex index but no frequency. Index is overwritten with a RangeIndex of step 1.\n",
      "  warnings.warn(\n",
      "\n",
      "loop param_grid:  67%|█████████████████████████▎            | 4/6 [00:05<00:03,  1.65s/it]\u001b[AC:\\Users\\jngai\\anaconda3\\lib\\site-packages\\skforecast\\utils\\utils.py:360: UserWarning: `y` has DatetimeIndex index but no frequency. Index is overwritten with a RangeIndex of step 1.\n",
      "  warnings.warn(\n",
      "C:\\Users\\jngai\\anaconda3\\lib\\site-packages\\skforecast\\utils\\utils.py:360: UserWarning: `y` has DatetimeIndex index but no frequency. Index is overwritten with a RangeIndex of step 1.\n",
      "  warnings.warn(\n",
      "C:\\Users\\jngai\\anaconda3\\lib\\site-packages\\skforecast\\utils\\utils.py:417: UserWarning: `last_window` has DatetimeIndex index but no frequency. Index is overwritten with a RangeIndex of step 1.\n",
      "  warnings.warn(\n",
      "C:\\Users\\jngai\\anaconda3\\lib\\site-packages\\skforecast\\utils\\utils.py:360: UserWarning: `y` has DatetimeIndex index but no frequency. Index is overwritten with a RangeIndex of step 1.\n",
      "  warnings.warn(\n",
      "C:\\Users\\jngai\\anaconda3\\lib\\site-packages\\skforecast\\utils\\utils.py:360: UserWarning: `y` has DatetimeIndex index but no frequency. Index is overwritten with a RangeIndex of step 1.\n",
      "  warnings.warn(\n",
      "C:\\Users\\jngai\\anaconda3\\lib\\site-packages\\skforecast\\utils\\utils.py:417: UserWarning: `last_window` has DatetimeIndex index but no frequency. Index is overwritten with a RangeIndex of step 1.\n",
      "  warnings.warn(\n",
      "C:\\Users\\jngai\\anaconda3\\lib\\site-packages\\skforecast\\utils\\utils.py:360: UserWarning: `y` has DatetimeIndex index but no frequency. Index is overwritten with a RangeIndex of step 1.\n",
      "  warnings.warn(\n",
      "C:\\Users\\jngai\\anaconda3\\lib\\site-packages\\skforecast\\utils\\utils.py:360: UserWarning: `y` has DatetimeIndex index but no frequency. Index is overwritten with a RangeIndex of step 1.\n",
      "  warnings.warn(\n",
      "C:\\Users\\jngai\\anaconda3\\lib\\site-packages\\skforecast\\utils\\utils.py:417: UserWarning: `last_window` has DatetimeIndex index but no frequency. Index is overwritten with a RangeIndex of step 1.\n",
      "  warnings.warn(\n",
      "\n",
      "loop param_grid:  83%|███████████████████████████████▋      | 5/6 [00:06<00:01,  1.26s/it]\u001b[AC:\\Users\\jngai\\anaconda3\\lib\\site-packages\\skforecast\\utils\\utils.py:360: UserWarning: `y` has DatetimeIndex index but no frequency. Index is overwritten with a RangeIndex of step 1.\n",
      "  warnings.warn(\n",
      "C:\\Users\\jngai\\anaconda3\\lib\\site-packages\\skforecast\\utils\\utils.py:360: UserWarning: `y` has DatetimeIndex index but no frequency. Index is overwritten with a RangeIndex of step 1.\n",
      "  warnings.warn(\n",
      "C:\\Users\\jngai\\anaconda3\\lib\\site-packages\\skforecast\\utils\\utils.py:417: UserWarning: `last_window` has DatetimeIndex index but no frequency. Index is overwritten with a RangeIndex of step 1.\n",
      "  warnings.warn(\n",
      "C:\\Users\\jngai\\anaconda3\\lib\\site-packages\\skforecast\\utils\\utils.py:360: UserWarning: `y` has DatetimeIndex index but no frequency. Index is overwritten with a RangeIndex of step 1.\n",
      "  warnings.warn(\n",
      "C:\\Users\\jngai\\anaconda3\\lib\\site-packages\\skforecast\\utils\\utils.py:360: UserWarning: `y` has DatetimeIndex index but no frequency. Index is overwritten with a RangeIndex of step 1.\n",
      "  warnings.warn(\n",
      "C:\\Users\\jngai\\anaconda3\\lib\\site-packages\\skforecast\\utils\\utils.py:417: UserWarning: `last_window` has DatetimeIndex index but no frequency. Index is overwritten with a RangeIndex of step 1.\n",
      "  warnings.warn(\n",
      "C:\\Users\\jngai\\anaconda3\\lib\\site-packages\\skforecast\\utils\\utils.py:360: UserWarning: `y` has DatetimeIndex index but no frequency. Index is overwritten with a RangeIndex of step 1.\n",
      "  warnings.warn(\n",
      "C:\\Users\\jngai\\anaconda3\\lib\\site-packages\\skforecast\\utils\\utils.py:360: UserWarning: `y` has DatetimeIndex index but no frequency. Index is overwritten with a RangeIndex of step 1.\n",
      "  warnings.warn(\n",
      "C:\\Users\\jngai\\anaconda3\\lib\\site-packages\\skforecast\\utils\\utils.py:417: UserWarning: `last_window` has DatetimeIndex index but no frequency. Index is overwritten with a RangeIndex of step 1.\n",
      "  warnings.warn(\n",
      "\n",
      "loop param_grid: 100%|██████████████████████████████████████| 6/6 [00:08<00:00,  1.56s/it]\u001b[A\n",
      "loop lags_grid:  50%|███████████████████▌                   | 1/2 [00:08<00:08,  8.72s/it]\u001b[A\n",
      "loop param_grid:   0%|                                              | 0/6 [00:00<?, ?it/s]\u001b[AC:\\Users\\jngai\\anaconda3\\lib\\site-packages\\skforecast\\utils\\utils.py:360: UserWarning: `y` has DatetimeIndex index but no frequency. Index is overwritten with a RangeIndex of step 1.\n",
      "  warnings.warn(\n",
      "C:\\Users\\jngai\\anaconda3\\lib\\site-packages\\skforecast\\utils\\utils.py:360: UserWarning: `y` has DatetimeIndex index but no frequency. Index is overwritten with a RangeIndex of step 1.\n",
      "  warnings.warn(\n",
      "C:\\Users\\jngai\\anaconda3\\lib\\site-packages\\skforecast\\utils\\utils.py:417: UserWarning: `last_window` has DatetimeIndex index but no frequency. Index is overwritten with a RangeIndex of step 1.\n",
      "  warnings.warn(\n",
      "C:\\Users\\jngai\\anaconda3\\lib\\site-packages\\skforecast\\utils\\utils.py:360: UserWarning: `y` has DatetimeIndex index but no frequency. Index is overwritten with a RangeIndex of step 1.\n",
      "  warnings.warn(\n",
      "C:\\Users\\jngai\\anaconda3\\lib\\site-packages\\skforecast\\utils\\utils.py:360: UserWarning: `y` has DatetimeIndex index but no frequency. Index is overwritten with a RangeIndex of step 1.\n",
      "  warnings.warn(\n",
      "C:\\Users\\jngai\\anaconda3\\lib\\site-packages\\skforecast\\utils\\utils.py:417: UserWarning: `last_window` has DatetimeIndex index but no frequency. Index is overwritten with a RangeIndex of step 1.\n",
      "  warnings.warn(\n",
      "C:\\Users\\jngai\\anaconda3\\lib\\site-packages\\skforecast\\utils\\utils.py:360: UserWarning: `y` has DatetimeIndex index but no frequency. Index is overwritten with a RangeIndex of step 1.\n",
      "  warnings.warn(\n",
      "C:\\Users\\jngai\\anaconda3\\lib\\site-packages\\skforecast\\utils\\utils.py:360: UserWarning: `y` has DatetimeIndex index but no frequency. Index is overwritten with a RangeIndex of step 1.\n",
      "  warnings.warn(\n",
      "C:\\Users\\jngai\\anaconda3\\lib\\site-packages\\skforecast\\utils\\utils.py:417: UserWarning: `last_window` has DatetimeIndex index but no frequency. Index is overwritten with a RangeIndex of step 1.\n",
      "  warnings.warn(\n",
      "\n",
      "loop param_grid:  17%|██████▎                               | 1/6 [00:00<00:03,  1.54it/s]\u001b[AC:\\Users\\jngai\\anaconda3\\lib\\site-packages\\skforecast\\utils\\utils.py:360: UserWarning: `y` has DatetimeIndex index but no frequency. Index is overwritten with a RangeIndex of step 1.\n",
      "  warnings.warn(\n",
      "C:\\Users\\jngai\\anaconda3\\lib\\site-packages\\skforecast\\utils\\utils.py:360: UserWarning: `y` has DatetimeIndex index but no frequency. Index is overwritten with a RangeIndex of step 1.\n",
      "  warnings.warn(\n",
      "C:\\Users\\jngai\\anaconda3\\lib\\site-packages\\skforecast\\utils\\utils.py:417: UserWarning: `last_window` has DatetimeIndex index but no frequency. Index is overwritten with a RangeIndex of step 1.\n",
      "  warnings.warn(\n",
      "C:\\Users\\jngai\\anaconda3\\lib\\site-packages\\skforecast\\utils\\utils.py:360: UserWarning: `y` has DatetimeIndex index but no frequency. Index is overwritten with a RangeIndex of step 1.\n",
      "  warnings.warn(\n",
      "C:\\Users\\jngai\\anaconda3\\lib\\site-packages\\skforecast\\utils\\utils.py:360: UserWarning: `y` has DatetimeIndex index but no frequency. Index is overwritten with a RangeIndex of step 1.\n",
      "  warnings.warn(\n",
      "C:\\Users\\jngai\\anaconda3\\lib\\site-packages\\skforecast\\utils\\utils.py:417: UserWarning: `last_window` has DatetimeIndex index but no frequency. Index is overwritten with a RangeIndex of step 1.\n",
      "  warnings.warn(\n",
      "C:\\Users\\jngai\\anaconda3\\lib\\site-packages\\skforecast\\utils\\utils.py:360: UserWarning: `y` has DatetimeIndex index but no frequency. Index is overwritten with a RangeIndex of step 1.\n",
      "  warnings.warn(\n",
      "C:\\Users\\jngai\\anaconda3\\lib\\site-packages\\skforecast\\utils\\utils.py:360: UserWarning: `y` has DatetimeIndex index but no frequency. Index is overwritten with a RangeIndex of step 1.\n",
      "  warnings.warn(\n",
      "C:\\Users\\jngai\\anaconda3\\lib\\site-packages\\skforecast\\utils\\utils.py:417: UserWarning: `last_window` has DatetimeIndex index but no frequency. Index is overwritten with a RangeIndex of step 1.\n",
      "  warnings.warn(\n",
      "\n",
      "loop param_grid:  33%|████████████▋                         | 2/6 [00:03<00:07,  1.79s/it]\u001b[AC:\\Users\\jngai\\anaconda3\\lib\\site-packages\\skforecast\\utils\\utils.py:360: UserWarning: `y` has DatetimeIndex index but no frequency. Index is overwritten with a RangeIndex of step 1.\n",
      "  warnings.warn(\n",
      "C:\\Users\\jngai\\anaconda3\\lib\\site-packages\\skforecast\\utils\\utils.py:360: UserWarning: `y` has DatetimeIndex index but no frequency. Index is overwritten with a RangeIndex of step 1.\n",
      "  warnings.warn(\n",
      "C:\\Users\\jngai\\anaconda3\\lib\\site-packages\\skforecast\\utils\\utils.py:417: UserWarning: `last_window` has DatetimeIndex index but no frequency. Index is overwritten with a RangeIndex of step 1.\n",
      "  warnings.warn(\n",
      "C:\\Users\\jngai\\anaconda3\\lib\\site-packages\\skforecast\\utils\\utils.py:360: UserWarning: `y` has DatetimeIndex index but no frequency. Index is overwritten with a RangeIndex of step 1.\n",
      "  warnings.warn(\n",
      "C:\\Users\\jngai\\anaconda3\\lib\\site-packages\\skforecast\\utils\\utils.py:360: UserWarning: `y` has DatetimeIndex index but no frequency. Index is overwritten with a RangeIndex of step 1.\n",
      "  warnings.warn(\n",
      "C:\\Users\\jngai\\anaconda3\\lib\\site-packages\\skforecast\\utils\\utils.py:417: UserWarning: `last_window` has DatetimeIndex index but no frequency. Index is overwritten with a RangeIndex of step 1.\n",
      "  warnings.warn(\n",
      "C:\\Users\\jngai\\anaconda3\\lib\\site-packages\\skforecast\\utils\\utils.py:360: UserWarning: `y` has DatetimeIndex index but no frequency. Index is overwritten with a RangeIndex of step 1.\n",
      "  warnings.warn(\n",
      "C:\\Users\\jngai\\anaconda3\\lib\\site-packages\\skforecast\\utils\\utils.py:360: UserWarning: `y` has DatetimeIndex index but no frequency. Index is overwritten with a RangeIndex of step 1.\n",
      "  warnings.warn(\n",
      "C:\\Users\\jngai\\anaconda3\\lib\\site-packages\\skforecast\\utils\\utils.py:417: UserWarning: `last_window` has DatetimeIndex index but no frequency. Index is overwritten with a RangeIndex of step 1.\n",
      "  warnings.warn(\n",
      "\n",
      "loop param_grid:  50%|███████████████████                   | 3/6 [00:03<00:03,  1.29s/it]\u001b[AC:\\Users\\jngai\\anaconda3\\lib\\site-packages\\skforecast\\utils\\utils.py:360: UserWarning: `y` has DatetimeIndex index but no frequency. Index is overwritten with a RangeIndex of step 1.\n",
      "  warnings.warn(\n",
      "C:\\Users\\jngai\\anaconda3\\lib\\site-packages\\skforecast\\utils\\utils.py:360: UserWarning: `y` has DatetimeIndex index but no frequency. Index is overwritten with a RangeIndex of step 1.\n",
      "  warnings.warn(\n",
      "C:\\Users\\jngai\\anaconda3\\lib\\site-packages\\skforecast\\utils\\utils.py:417: UserWarning: `last_window` has DatetimeIndex index but no frequency. Index is overwritten with a RangeIndex of step 1.\n",
      "  warnings.warn(\n",
      "C:\\Users\\jngai\\anaconda3\\lib\\site-packages\\skforecast\\utils\\utils.py:360: UserWarning: `y` has DatetimeIndex index but no frequency. Index is overwritten with a RangeIndex of step 1.\n",
      "  warnings.warn(\n",
      "C:\\Users\\jngai\\anaconda3\\lib\\site-packages\\skforecast\\utils\\utils.py:360: UserWarning: `y` has DatetimeIndex index but no frequency. Index is overwritten with a RangeIndex of step 1.\n",
      "  warnings.warn(\n",
      "C:\\Users\\jngai\\anaconda3\\lib\\site-packages\\skforecast\\utils\\utils.py:417: UserWarning: `last_window` has DatetimeIndex index but no frequency. Index is overwritten with a RangeIndex of step 1.\n",
      "  warnings.warn(\n",
      "C:\\Users\\jngai\\anaconda3\\lib\\site-packages\\skforecast\\utils\\utils.py:360: UserWarning: `y` has DatetimeIndex index but no frequency. Index is overwritten with a RangeIndex of step 1.\n",
      "  warnings.warn(\n",
      "C:\\Users\\jngai\\anaconda3\\lib\\site-packages\\skforecast\\utils\\utils.py:360: UserWarning: `y` has DatetimeIndex index but no frequency. Index is overwritten with a RangeIndex of step 1.\n",
      "  warnings.warn(\n",
      "C:\\Users\\jngai\\anaconda3\\lib\\site-packages\\skforecast\\utils\\utils.py:417: UserWarning: `last_window` has DatetimeIndex index but no frequency. Index is overwritten with a RangeIndex of step 1.\n",
      "  warnings.warn(\n",
      "\n",
      "loop param_grid:  67%|█████████████████████████▎            | 4/6 [00:06<00:03,  1.88s/it]\u001b[AC:\\Users\\jngai\\anaconda3\\lib\\site-packages\\skforecast\\utils\\utils.py:360: UserWarning: `y` has DatetimeIndex index but no frequency. Index is overwritten with a RangeIndex of step 1.\n",
      "  warnings.warn(\n",
      "C:\\Users\\jngai\\anaconda3\\lib\\site-packages\\skforecast\\utils\\utils.py:360: UserWarning: `y` has DatetimeIndex index but no frequency. Index is overwritten with a RangeIndex of step 1.\n",
      "  warnings.warn(\n",
      "C:\\Users\\jngai\\anaconda3\\lib\\site-packages\\skforecast\\utils\\utils.py:417: UserWarning: `last_window` has DatetimeIndex index but no frequency. Index is overwritten with a RangeIndex of step 1.\n",
      "  warnings.warn(\n",
      "C:\\Users\\jngai\\anaconda3\\lib\\site-packages\\skforecast\\utils\\utils.py:360: UserWarning: `y` has DatetimeIndex index but no frequency. Index is overwritten with a RangeIndex of step 1.\n",
      "  warnings.warn(\n",
      "C:\\Users\\jngai\\anaconda3\\lib\\site-packages\\skforecast\\utils\\utils.py:360: UserWarning: `y` has DatetimeIndex index but no frequency. Index is overwritten with a RangeIndex of step 1.\n",
      "  warnings.warn(\n",
      "C:\\Users\\jngai\\anaconda3\\lib\\site-packages\\skforecast\\utils\\utils.py:417: UserWarning: `last_window` has DatetimeIndex index but no frequency. Index is overwritten with a RangeIndex of step 1.\n",
      "  warnings.warn(\n",
      "C:\\Users\\jngai\\anaconda3\\lib\\site-packages\\skforecast\\utils\\utils.py:360: UserWarning: `y` has DatetimeIndex index but no frequency. Index is overwritten with a RangeIndex of step 1.\n",
      "  warnings.warn(\n",
      "C:\\Users\\jngai\\anaconda3\\lib\\site-packages\\skforecast\\utils\\utils.py:360: UserWarning: `y` has DatetimeIndex index but no frequency. Index is overwritten with a RangeIndex of step 1.\n",
      "  warnings.warn(\n",
      "C:\\Users\\jngai\\anaconda3\\lib\\site-packages\\skforecast\\utils\\utils.py:417: UserWarning: `last_window` has DatetimeIndex index but no frequency. Index is overwritten with a RangeIndex of step 1.\n",
      "  warnings.warn(\n",
      "\n",
      "loop param_grid:  83%|███████████████████████████████▋      | 5/6 [00:07<00:01,  1.48s/it]\u001b[AC:\\Users\\jngai\\anaconda3\\lib\\site-packages\\skforecast\\utils\\utils.py:360: UserWarning: `y` has DatetimeIndex index but no frequency. Index is overwritten with a RangeIndex of step 1.\n",
      "  warnings.warn(\n",
      "C:\\Users\\jngai\\anaconda3\\lib\\site-packages\\skforecast\\utils\\utils.py:360: UserWarning: `y` has DatetimeIndex index but no frequency. Index is overwritten with a RangeIndex of step 1.\n",
      "  warnings.warn(\n",
      "C:\\Users\\jngai\\anaconda3\\lib\\site-packages\\skforecast\\utils\\utils.py:417: UserWarning: `last_window` has DatetimeIndex index but no frequency. Index is overwritten with a RangeIndex of step 1.\n",
      "  warnings.warn(\n",
      "C:\\Users\\jngai\\anaconda3\\lib\\site-packages\\skforecast\\utils\\utils.py:360: UserWarning: `y` has DatetimeIndex index but no frequency. Index is overwritten with a RangeIndex of step 1.\n",
      "  warnings.warn(\n",
      "C:\\Users\\jngai\\anaconda3\\lib\\site-packages\\skforecast\\utils\\utils.py:360: UserWarning: `y` has DatetimeIndex index but no frequency. Index is overwritten with a RangeIndex of step 1.\n",
      "  warnings.warn(\n",
      "C:\\Users\\jngai\\anaconda3\\lib\\site-packages\\skforecast\\utils\\utils.py:417: UserWarning: `last_window` has DatetimeIndex index but no frequency. Index is overwritten with a RangeIndex of step 1.\n",
      "  warnings.warn(\n",
      "C:\\Users\\jngai\\anaconda3\\lib\\site-packages\\skforecast\\utils\\utils.py:360: UserWarning: `y` has DatetimeIndex index but no frequency. Index is overwritten with a RangeIndex of step 1.\n",
      "  warnings.warn(\n",
      "C:\\Users\\jngai\\anaconda3\\lib\\site-packages\\skforecast\\utils\\utils.py:360: UserWarning: `y` has DatetimeIndex index but no frequency. Index is overwritten with a RangeIndex of step 1.\n",
      "  warnings.warn(\n",
      "C:\\Users\\jngai\\anaconda3\\lib\\site-packages\\skforecast\\utils\\utils.py:417: UserWarning: `last_window` has DatetimeIndex index but no frequency. Index is overwritten with a RangeIndex of step 1.\n",
      "  warnings.warn(\n",
      "\n",
      "loop param_grid: 100%|██████████████████████████████████████| 6/6 [00:10<00:00,  2.00s/it]\u001b[A\n",
      "loop lags_grid: 100%|███████████████████████████████████████| 2/2 [00:19<00:00,  9.62s/it]\u001b[A"
     ]
    },
    {
     "name": "stdout",
     "output_type": "stream",
     "text": [
      "`Forecaster` refitted using the best-found lags and parameters, and the whole data set: \n",
      "  Lags: [1] \n",
      "  Parameters: {'max_depth': 10, 'n_estimators': 10}\n",
      "  Backtesting metric: 343345.96262443444\n",
      "\n"
     ]
    },
    {
     "name": "stderr",
     "output_type": "stream",
     "text": [
      "\n",
      "C:\\Users\\jngai\\anaconda3\\lib\\site-packages\\skforecast\\utils\\utils.py:360: UserWarning: `y` has DatetimeIndex index but no frequency. Index is overwritten with a RangeIndex of step 1.\n",
      "  warnings.warn(\n",
      "C:\\Users\\jngai\\anaconda3\\lib\\site-packages\\skforecast\\utils\\utils.py:360: UserWarning: `y` has DatetimeIndex index but no frequency. Index is overwritten with a RangeIndex of step 1.\n",
      "  warnings.warn(\n"
     ]
    }
   ],
   "source": [
    "#Searching for the optimal lag and hyperparameter combination.\n",
    "\n",
    "steps =  110 #no.of future steps predicted.\n",
    "forecaster = ForecasterAutoreg(\n",
    "                regressor = RandomForestRegressor(random_state=123),\n",
    "                lags      = 110 # values predicted into the future, i.e., forecasting 110 days into the future. This value will be replaced in the grid search.\n",
    "             )\n",
    "\n",
    "# Lags used as predictors\n",
    "lags_grid = [1, 110]\n",
    "\n",
    "# Regressor's hyperparameters\n",
    "param_grid = {'n_estimators': [10, 50],\n",
    "              'max_depth': [3, 5, 10]}\n",
    "\n",
    "results_grid = grid_search_forecaster(\n",
    "                        forecaster         = forecaster,\n",
    "                        y                  = data_train['y'],\n",
    "                        param_grid         = param_grid,\n",
    "                        lags_grid          = lags_grid,\n",
    "                        steps              = steps,\n",
    "                        refit              = True,\n",
    "                        metric             = 'mean_squared_error',\n",
    "                        initial_train_size = int(len(data_train)*0.5),\n",
    "                        fixed_train_size   = False,\n",
    "                        return_best        = True,\n",
    "                        verbose            = False\n",
    "               )"
   ]
  },
  {
   "cell_type": "markdown",
   "id": "c7af9baf-823a-4e0e-a1b0-e91ee1a2610a",
   "metadata": {},
   "source": [
    "## Final Model\n",
    "\n",
    "#### Training the model using the optimal configuration obtained above using the grid_search_forecaster function."
   ]
  },
  {
   "cell_type": "code",
   "execution_count": 39,
   "id": "21fa5d82-ebff-4e86-994a-f899fc5054fd",
   "metadata": {},
   "outputs": [
    {
     "name": "stderr",
     "output_type": "stream",
     "text": [
      "C:\\Users\\jngai\\anaconda3\\lib\\site-packages\\skforecast\\utils\\utils.py:360: UserWarning: `y` has DatetimeIndex index but no frequency. Index is overwritten with a RangeIndex of step 1.\n",
      "  warnings.warn(\n",
      "C:\\Users\\jngai\\anaconda3\\lib\\site-packages\\skforecast\\utils\\utils.py:360: UserWarning: `y` has DatetimeIndex index but no frequency. Index is overwritten with a RangeIndex of step 1.\n",
      "  warnings.warn(\n"
     ]
    }
   ],
   "source": [
    "# Create and train forecaster with the best hyperparameters\n",
    "# ==============================================================================\n",
    "regressor = RandomForestRegressor(max_depth=10, n_estimators=10, random_state=123)\n",
    "forecaster = ForecasterAutoreg(\n",
    "                regressor = regressor,\n",
    "                lags      = 1\n",
    "             )\n",
    "\n",
    "forecaster.fit(y=data_train['y'])"
   ]
  },
  {
   "cell_type": "code",
   "execution_count": 40,
   "id": "d863e878-3aa5-4d77-a340-8ebec60f8ce5",
   "metadata": {},
   "outputs": [
    {
     "name": "stderr",
     "output_type": "stream",
     "text": [
      "C:\\Users\\jngai\\anaconda3\\lib\\site-packages\\skforecast\\utils\\utils.py:417: UserWarning: `last_window` has DatetimeIndex index but no frequency. Index is overwritten with a RangeIndex of step 1.\n",
      "  warnings.warn(\n"
     ]
    },
    {
     "data": {
      "text/plain": [
       "1      3403.6\n",
       "2      3403.6\n",
       "3      3403.6\n",
       "4      3403.6\n",
       "5      3403.6\n",
       "        ...  \n",
       "106    3403.6\n",
       "107    3403.6\n",
       "108    3403.6\n",
       "109    3403.6\n",
       "110    3403.6\n",
       "Name: pred, Length: 110, dtype: float64"
      ]
     },
     "execution_count": 40,
     "metadata": {},
     "output_type": "execute_result"
    }
   ],
   "source": [
    "# Predictions\n",
    "# ==============================================================================\n",
    "predictions1 = forecaster.predict(steps=steps)\n",
    "predictions1"
   ]
  },
  {
   "cell_type": "code",
   "execution_count": 41,
   "id": "c2cf7976-e02a-4d6f-980d-54b0492f3358",
   "metadata": {},
   "outputs": [
    {
     "data": {
      "text/html": [
       "<div>\n",
       "<style scoped>\n",
       "    .dataframe tbody tr th:only-of-type {\n",
       "        vertical-align: middle;\n",
       "    }\n",
       "\n",
       "    .dataframe tbody tr th {\n",
       "        vertical-align: top;\n",
       "    }\n",
       "\n",
       "    .dataframe thead th {\n",
       "        text-align: right;\n",
       "    }\n",
       "</style>\n",
       "<table border=\"1\" class=\"dataframe\">\n",
       "  <thead>\n",
       "    <tr style=\"text-align: right;\">\n",
       "      <th></th>\n",
       "      <th>predicted_y</th>\n",
       "    </tr>\n",
       "    <tr>\n",
       "      <th>x</th>\n",
       "      <th></th>\n",
       "    </tr>\n",
       "  </thead>\n",
       "  <tbody>\n",
       "    <tr>\n",
       "      <th>2021-10-20</th>\n",
       "      <td>3403.6</td>\n",
       "    </tr>\n",
       "    <tr>\n",
       "      <th>2021-10-21</th>\n",
       "      <td>3403.6</td>\n",
       "    </tr>\n",
       "    <tr>\n",
       "      <th>2021-10-22</th>\n",
       "      <td>3403.6</td>\n",
       "    </tr>\n",
       "    <tr>\n",
       "      <th>2021-10-23</th>\n",
       "      <td>3403.6</td>\n",
       "    </tr>\n",
       "    <tr>\n",
       "      <th>2021-10-24</th>\n",
       "      <td>3403.6</td>\n",
       "    </tr>\n",
       "    <tr>\n",
       "      <th>...</th>\n",
       "      <td>...</td>\n",
       "    </tr>\n",
       "    <tr>\n",
       "      <th>2022-02-02</th>\n",
       "      <td>3403.6</td>\n",
       "    </tr>\n",
       "    <tr>\n",
       "      <th>2022-02-03</th>\n",
       "      <td>3403.6</td>\n",
       "    </tr>\n",
       "    <tr>\n",
       "      <th>2022-02-04</th>\n",
       "      <td>3403.6</td>\n",
       "    </tr>\n",
       "    <tr>\n",
       "      <th>2022-02-05</th>\n",
       "      <td>3403.6</td>\n",
       "    </tr>\n",
       "    <tr>\n",
       "      <th>2022-02-06</th>\n",
       "      <td>3403.6</td>\n",
       "    </tr>\n",
       "  </tbody>\n",
       "</table>\n",
       "<p>110 rows × 1 columns</p>\n",
       "</div>"
      ],
      "text/plain": [
       "            predicted_y\n",
       "x                      \n",
       "2021-10-20       3403.6\n",
       "2021-10-21       3403.6\n",
       "2021-10-22       3403.6\n",
       "2021-10-23       3403.6\n",
       "2021-10-24       3403.6\n",
       "...                 ...\n",
       "2022-02-02       3403.6\n",
       "2022-02-03       3403.6\n",
       "2022-02-04       3403.6\n",
       "2022-02-05       3403.6\n",
       "2022-02-06       3403.6\n",
       "\n",
       "[110 rows x 1 columns]"
      ]
     },
     "execution_count": 41,
     "metadata": {},
     "output_type": "execute_result"
    }
   ],
   "source": [
    "#convert series to dataframe\n",
    "df1 = predictions1.to_frame(name='predicted_y')\n",
    "df1\n",
    "\n",
    "\n",
    "#Train dates : 2020-08-04 00:00:00 --- 2021-10-19 00:00:00  (n=442)\n",
    "#Test dates  : 2021-10-20 00:00:00 --- 2022-02-06 00:00:00  (n=110)\n",
    "\n",
    "index1 = pd.date_range('2021-10-20', periods=110, freq='D')\n",
    "#print(len(df1), \", \", len(index1))\n",
    "\n",
    "df1['x']=index1\n",
    "df1.head()\n",
    "\n",
    "#set the index to be the x column\n",
    "predicted_df1 = df1.set_index(\"x\")\n",
    "predicted_df1"
   ]
  },
  {
   "cell_type": "code",
   "execution_count": 42,
   "id": "1ac73174-0b10-4b68-b8e5-15222c052f02",
   "metadata": {
    "tags": []
   },
   "outputs": [
    {
     "data": {
      "image/png": "[encoded data removed]",
      "text/plain": [
       "<Figure size 648x288 with 1 Axes>"
      ]
     },
     "metadata": {
      "needs_background": "light"
     },
     "output_type": "display_data"
    }
   ],
   "source": [
    "# Plot\n",
    "# ==============================================================================\n",
    "fig, ax = plt.subplots(figsize=(9, 4))\n",
    "data_train['y'].plot(ax=ax, label='train')\n",
    "data_test['y'].plot(ax=ax, label='test')\n",
    "predicted_df1['predicted_y'].plot(ax=ax, label='predictions')\n",
    "ax.legend();"
   ]
  },
  {
   "cell_type": "markdown",
   "id": "25bb42c6-dc85-4d4e-aee0-0fd087913266",
   "metadata": {},
   "source": [
    "### Measuring the Error Rate"
   ]
  },
  {
   "cell_type": "code",
   "execution_count": 43,
   "id": "b0968b69-140d-44ba-bb1a-f0df27c80ca6",
   "metadata": {},
   "outputs": [
    {
     "name": "stdout",
     "output_type": "stream",
     "text": [
      "Test error (mse): 2330318.5836363644\n"
     ]
    }
   ],
   "source": [
    "# Test error\n",
    "# ==============================================================================\n",
    "error_mse = mean_squared_error(\n",
    "                y_true = data_test['y'],\n",
    "                y_pred = predicted_df1['predicted_y']\n",
    "            )\n",
    "\n",
    "print(f\"Test error (mse): {error_mse}\")"
   ]
  },
  {
   "cell_type": "code",
   "execution_count": 44,
   "id": "f7a066ce-5fc8-41d8-9257-64439d2bf2c8",
   "metadata": {},
   "outputs": [
    {
     "name": "stdout",
     "output_type": "stream",
     "text": [
      "Information of backtesting process\n",
      "----------------------------------\n",
      "Number of observations used for initial training: 100\n",
      "Number of observations used for backtesting: 10\n",
      "    Number of folds: 1\n",
      "    Number of steps per fold: 441\n",
      "    Last fold only includes 10 observations.\n",
      "\n",
      "Data partition in fold: 0\n",
      "    Training:   2021-10-20 00:00:00 -- 2022-01-27 00:00:00  (n=100)\n",
      "    Validation: 2022-01-28 00:00:00 -- 2022-02-06 00:00:00  (n=10)\n",
      "\n",
      "Backtest error: 314202.99999999965\n"
     ]
    },
    {
     "name": "stderr",
     "output_type": "stream",
     "text": [
      "C:\\Users\\jngai\\anaconda3\\lib\\site-packages\\skforecast\\utils\\utils.py:360: UserWarning: `y` has DatetimeIndex index but no frequency. Index is overwritten with a RangeIndex of step 1.\n",
      "  warnings.warn(\n",
      "C:\\Users\\jngai\\anaconda3\\lib\\site-packages\\skforecast\\utils\\utils.py:360: UserWarning: `y` has DatetimeIndex index but no frequency. Index is overwritten with a RangeIndex of step 1.\n",
      "  warnings.warn(\n",
      "C:\\Users\\jngai\\anaconda3\\lib\\site-packages\\skforecast\\utils\\utils.py:417: UserWarning: `last_window` has DatetimeIndex index but no frequency. Index is overwritten with a RangeIndex of step 1.\n",
      "  warnings.warn(\n"
     ]
    }
   ],
   "source": [
    "# Backtesting\n",
    "# Backtesting\n",
    "# ==============================================================================\n",
    "steps = 441\n",
    "n_backtesting = 10\n",
    "\n",
    "metric, predictions_backtest = backtesting_forecaster(\n",
    "                                    forecaster         = forecaster,\n",
    "                                    y                  = data_test['y'],\n",
    "                                    initial_train_size = len(data_test) - n_backtesting,\n",
    "                                    fixed_train_size   = False,\n",
    "                                    steps              = steps,\n",
    "                                    metric             = 'mean_squared_error',\n",
    "                                    refit              = True,\n",
    "                                    verbose            = True\n",
    "                                )\n",
    "\n",
    "print(f\"Backtest error: {metric}\")"
   ]
  },
  {
   "cell_type": "code",
   "execution_count": null,
   "id": "58a9f7f2-7ab8-471e-80d4-11f0031b0d53",
   "metadata": {},
   "outputs": [],
   "source": []
  }
 ],
 "metadata": {
  "kernelspec": {
   "display_name": "Python 3 (ipykernel)",
   "language": "python",
   "name": "python3"
  },
  "language_info": {
   "codemirror_mode": {
    "name": "ipython",
    "version": 3
   },
   "file_extension": ".py",
   "mimetype": "text/x-python",
   "name": "python",
   "nbconvert_exporter": "python",
   "pygments_lexer": "ipython3",
   "version": "3.9.7"
  }
 },
 "nbformat": 4,
 "nbformat_minor": 5
}
