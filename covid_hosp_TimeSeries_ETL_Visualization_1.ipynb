{
 "cells": [
  {
   "cell_type": "code",
   "execution_count": 1,
   "id": "dc375f86-dbc2-4266-8f91-1286a8f09283",
   "metadata": {},
   "outputs": [
    {
     "name": "stdout",
     "output_type": "stream",
     "text": [
      "Requirement already satisfied: hmmlearn in c:\\users\\jngai\\anaconda3\\lib\\site-packages (0.2.8)\n",
      "Requirement already satisfied: scikit-learn>=0.16 in c:\\users\\jngai\\anaconda3\\lib\\site-packages (from hmmlearn) (0.24.2)\n",
      "Requirement already satisfied: numpy>=1.10 in c:\\users\\jngai\\anaconda3\\lib\\site-packages (from hmmlearn) (1.20.3)\n",
      "Requirement already satisfied: scipy>=0.19 in c:\\users\\jngai\\anaconda3\\lib\\site-packages (from hmmlearn) (1.7.1)\n",
      "Requirement already satisfied: threadpoolctl>=2.0.0 in c:\\users\\jngai\\anaconda3\\lib\\site-packages (from scikit-learn>=0.16->hmmlearn) (2.2.0)\n",
      "Requirement already satisfied: joblib>=0.11 in c:\\users\\jngai\\anaconda3\\lib\\site-packages (from scikit-learn>=0.16->hmmlearn) (1.1.0)\n"
     ]
    }
   ],
   "source": [
    "!pip install hmmlearn"
   ]
  },
  {
   "cell_type": "code",
   "execution_count": 2,
   "id": "c15ca28a-cfab-4a7c-a5da-adda878d113c",
   "metadata": {
    "tags": []
   },
   "outputs": [
    {
     "name": "stdout",
     "output_type": "stream",
     "text": [
      "Requirement already satisfied: cvxopt in c:\\users\\jngai\\anaconda3\\lib\\site-packages (1.3.0)\n"
     ]
    }
   ],
   "source": [
    "!pip install cvxopt"
   ]
  },
  {
   "cell_type": "code",
   "execution_count": 3,
   "id": "b2cc7808-09fd-4e04-adf5-f149f0e27d09",
   "metadata": {},
   "outputs": [],
   "source": [
    "import pandas as pd\n",
    "import numpy as np\n",
    "import matplotlib as mpl\n",
    "import matplotlib.pyplot as plt\n",
    "from dateutil.parser import parse"
   ]
  },
  {
   "cell_type": "code",
   "execution_count": 4,
   "id": "e0651784-07ff-492e-a6c2-35fd0a626651",
   "metadata": {},
   "outputs": [
    {
     "name": "stdout",
     "output_type": "stream",
     "text": [
      "         Date             Region  Total Cases  Active Cases  \\\n",
      "0  2020/08/04     Far North West        346.0             4   \n",
      "1  2020/08/04     Far North West          NaN             0   \n",
      "2  2020/08/04  Far North Central          0.0             0   \n",
      "3  2020/08/04     Far North East          6.0             0   \n",
      "4  2020/08/04     Far North East          NaN             0   \n",
      "\n",
      "   Inpatient Hospitalizations  ICU Hospitalizations  Recovered Cases  Deaths  \\\n",
      "0                         0.0                   0.0            335.0     7.0   \n",
      "1                         NaN                   NaN              NaN     NaN   \n",
      "2                         0.0                   0.0              0.0     0.0   \n",
      "3                         0.0                   0.0              6.0     0.0   \n",
      "4                         NaN                   NaN              NaN     NaN   \n",
      "\n",
      "   New Cases  Age 4 and Under  Age 5 to 11  Age 12 to 19  Age 20 to 39  \\\n",
      "0          0              NaN          NaN           NaN           NaN   \n",
      "1          0              NaN          NaN           NaN           NaN   \n",
      "2          0              NaN          NaN           NaN           NaN   \n",
      "3          0              NaN          NaN           NaN           NaN   \n",
      "4          0              NaN          NaN           NaN           NaN   \n",
      "\n",
      "   Ages 40 to 59  Age 60 to 79  Age 80+  \n",
      "0            NaN           NaN      NaN  \n",
      "1            NaN           NaN      NaN  \n",
      "2            NaN           NaN      NaN  \n",
      "3            NaN           NaN      NaN  \n",
      "4            NaN           NaN      NaN  \n"
     ]
    }
   ],
   "source": [
    "#importing data\n",
    "covidHost_df = pd.read_csv(\"cases.csv\")\n",
    "print(covidHost_df.head())"
   ]
  },
  {
   "cell_type": "code",
   "execution_count": 5,
   "id": "bab6d55e-efb1-4fd5-a090-4302a6f40549",
   "metadata": {},
   "outputs": [
    {
     "name": "stdout",
     "output_type": "stream",
     "text": [
      "<class 'pandas.core.frame.DataFrame'>\n",
      "RangeIndex: 18216 entries, 0 to 18215\n",
      "Data columns (total 16 columns):\n",
      " #   Column                      Non-Null Count  Dtype  \n",
      "---  ------                      --------------  -----  \n",
      " 0   Date                        18216 non-null  object \n",
      " 1   Region                      18216 non-null  object \n",
      " 2   Total Cases                 7725 non-null   float64\n",
      " 3   Active Cases                18216 non-null  int64  \n",
      " 4   Inpatient Hospitalizations  7728 non-null   float64\n",
      " 5   ICU Hospitalizations        7554 non-null   float64\n",
      " 6   Recovered Cases             7723 non-null   float64\n",
      " 7   Deaths                      7728 non-null   float64\n",
      " 8   New Cases                   18216 non-null  int64  \n",
      " 9   Age 4 and Under             101 non-null    float64\n",
      " 10  Age 5 to 11                 101 non-null    float64\n",
      " 11  Age 12 to 19                113 non-null    float64\n",
      " 12  Age 20 to 39                552 non-null    float64\n",
      " 13  Ages 40 to 59               552 non-null    float64\n",
      " 14  Age 60 to 79                552 non-null    float64\n",
      " 15  Age 80+                     552 non-null    float64\n",
      "dtypes: float64(12), int64(2), object(2)\n",
      "memory usage: 2.2+ MB\n"
     ]
    }
   ],
   "source": [
    "covidHost_df.info()"
   ]
  },
  {
   "cell_type": "code",
   "execution_count": 6,
   "id": "0b2600fa-6809-4020-8383-1a2c6fdf2095",
   "metadata": {},
   "outputs": [
    {
     "name": "stdout",
     "output_type": "stream",
     "text": [
      "<class 'pandas.core.frame.DataFrame'>\n",
      "RangeIndex: 18216 entries, 0 to 18215\n",
      "Data columns (total 16 columns):\n",
      " #   Column                      Non-Null Count  Dtype  \n",
      "---  ------                      --------------  -----  \n",
      " 0   Date                        18216 non-null  object \n",
      " 1   Region                      18216 non-null  object \n",
      " 2   Total Cases                 7725 non-null   float64\n",
      " 3   Active Cases                18216 non-null  int64  \n",
      " 4   Inpatient Hospitalizations  7728 non-null   float64\n",
      " 5   ICU Hospitalizations        7554 non-null   float64\n",
      " 6   Recovered Cases             7723 non-null   float64\n",
      " 7   Deaths                      7728 non-null   float64\n",
      " 8   New Cases                   18216 non-null  int64  \n",
      " 9   Age 4 and Under             101 non-null    float64\n",
      " 10  Age 5 to 11                 101 non-null    float64\n",
      " 11  Age 12 to 19                113 non-null    float64\n",
      " 12  Age 20 to 39                552 non-null    float64\n",
      " 13  Ages 40 to 59               552 non-null    float64\n",
      " 14  Age 60 to 79                552 non-null    float64\n",
      " 15  Age 80+                     552 non-null    float64\n",
      "dtypes: float64(12), int64(2), object(2)\n",
      "memory usage: 2.2+ MB\n"
     ]
    }
   ],
   "source": [
    "covidHost_df.info()"
   ]
  },
  {
   "cell_type": "markdown",
   "id": "a89733ac-70a9-49c5-a6fe-bb7c9bd374ce",
   "metadata": {},
   "source": [
    "# Data Cleaning \n",
    "\n",
    "* Checking if there are empty cells and replacing them with NaN. Thus all cells are either NaN or have values.\n",
    "* Checking for all NaN cells and replacing them with zeros. Thus all cells have 0 or >0 values.\n"
   ]
  },
  {
   "cell_type": "code",
   "execution_count": 7,
   "id": "648f7246-61d3-4d03-9ab5-0e193f634be4",
   "metadata": {
    "tags": []
   },
   "outputs": [],
   "source": [
    "#Check for empty cells in the entire DataFrame and replace with NaN\n",
    "\n",
    "covidHost_df = covidHost_df.replace('', np.nan)"
   ]
  },
  {
   "cell_type": "code",
   "execution_count": 8,
   "id": "486f9e9a-416b-43cf-9c37-bf8a62167c36",
   "metadata": {},
   "outputs": [],
   "source": [
    "#Check for NaN under the entire DataFrame and replace with zeros\n",
    "#Using inplace = True to change the original DataFrame\n",
    "\n",
    "covidHost_df.fillna(0, inplace=True)"
   ]
  },
  {
   "cell_type": "code",
   "execution_count": 9,
   "id": "b3017de6-df53-4038-a269-417a2ed45b57",
   "metadata": {},
   "outputs": [
    {
     "name": "stdout",
     "output_type": "stream",
     "text": [
      "<class 'pandas.core.frame.DataFrame'>\n",
      "RangeIndex: 18216 entries, 0 to 18215\n",
      "Data columns (total 16 columns):\n",
      " #   Column                      Non-Null Count  Dtype  \n",
      "---  ------                      --------------  -----  \n",
      " 0   Date                        18216 non-null  object \n",
      " 1   Region                      18216 non-null  object \n",
      " 2   Total Cases                 18216 non-null  float64\n",
      " 3   Active Cases                18216 non-null  int64  \n",
      " 4   Inpatient Hospitalizations  18216 non-null  float64\n",
      " 5   ICU Hospitalizations        18216 non-null  float64\n",
      " 6   Recovered Cases             18216 non-null  float64\n",
      " 7   Deaths                      18216 non-null  float64\n",
      " 8   New Cases                   18216 non-null  int64  \n",
      " 9   Age 4 and Under             18216 non-null  float64\n",
      " 10  Age 5 to 11                 18216 non-null  float64\n",
      " 11  Age 12 to 19                18216 non-null  float64\n",
      " 12  Age 20 to 39                18216 non-null  float64\n",
      " 13  Ages 40 to 59               18216 non-null  float64\n",
      " 14  Age 60 to 79                18216 non-null  float64\n",
      " 15  Age 80+                     18216 non-null  float64\n",
      "dtypes: float64(12), int64(2), object(2)\n",
      "memory usage: 2.2+ MB\n"
     ]
    }
   ],
   "source": [
    "covidHost_df.info()"
   ]
  },
  {
   "cell_type": "code",
   "execution_count": 10,
   "id": "a29e80eb-e145-472e-9351-99c825f78ba1",
   "metadata": {
    "tags": []
   },
   "outputs": [
    {
     "data": {
      "text/plain": [
       "False"
      ]
     },
     "execution_count": 10,
     "metadata": {},
     "output_type": "execute_result"
    }
   ],
   "source": [
    "#Checking if there are any null or NaN values\n",
    "covidHost_df.isnull().values.any()"
   ]
  },
  {
   "cell_type": "code",
   "execution_count": 11,
   "id": "49881dcc-05b0-4c30-ae1e-05721ec70141",
   "metadata": {},
   "outputs": [
    {
     "data": {
      "text/plain": [
       "array([[False, False, False, ..., False, False, False],\n",
       "       [False, False, False, ..., False, False, False],\n",
       "       [False, False, False, ..., False, False, False],\n",
       "       ...,\n",
       "       [False, False, False, ..., False, False, False],\n",
       "       [False, False, False, ..., False, False, False],\n",
       "       [False, False, False, ..., False, False, False]])"
      ]
     },
     "execution_count": 11,
     "metadata": {},
     "output_type": "execute_result"
    }
   ],
   "source": [
    "covidHost_df.isnull().values"
   ]
  },
  {
   "cell_type": "code",
   "execution_count": 12,
   "id": "f76fe122-bd05-48db-afcf-227a7250db99",
   "metadata": {},
   "outputs": [],
   "source": [
    "#saving the output to csv\n",
    "covidHost_df.to_csv(\"output.csv\")"
   ]
  },
  {
   "cell_type": "code",
   "execution_count": 13,
   "id": "75099b2a-c312-401f-a400-86858b66e0bb",
   "metadata": {},
   "outputs": [
    {
     "data": {
      "text/html": [
       "<div>\n",
       "<style scoped>\n",
       "    .dataframe tbody tr th:only-of-type {\n",
       "        vertical-align: middle;\n",
       "    }\n",
       "\n",
       "    .dataframe tbody tr th {\n",
       "        vertical-align: top;\n",
       "    }\n",
       "\n",
       "    .dataframe thead th {\n",
       "        text-align: right;\n",
       "    }\n",
       "</style>\n",
       "<table border=\"1\" class=\"dataframe\">\n",
       "  <thead>\n",
       "    <tr style=\"text-align: right;\">\n",
       "      <th></th>\n",
       "      <th>Date</th>\n",
       "      <th>Region</th>\n",
       "      <th>Total Cases</th>\n",
       "      <th>Active Cases</th>\n",
       "      <th>Inpatient Hospitalizations</th>\n",
       "      <th>ICU Hospitalizations</th>\n",
       "      <th>Recovered Cases</th>\n",
       "      <th>Deaths</th>\n",
       "      <th>New Cases</th>\n",
       "      <th>Age 4 and Under</th>\n",
       "      <th>Age 5 to 11</th>\n",
       "      <th>Age 12 to 19</th>\n",
       "      <th>Age 20 to 39</th>\n",
       "      <th>Ages 40 to 59</th>\n",
       "      <th>Age 60 to 79</th>\n",
       "      <th>Age 80+</th>\n",
       "    </tr>\n",
       "  </thead>\n",
       "  <tbody>\n",
       "    <tr>\n",
       "      <th>0</th>\n",
       "      <td>2020/08/04</td>\n",
       "      <td>Far North West</td>\n",
       "      <td>346.0</td>\n",
       "      <td>4</td>\n",
       "      <td>0.0</td>\n",
       "      <td>0.0</td>\n",
       "      <td>335.0</td>\n",
       "      <td>7.0</td>\n",
       "      <td>0</td>\n",
       "      <td>0.0</td>\n",
       "      <td>0.0</td>\n",
       "      <td>0.0</td>\n",
       "      <td>0.0</td>\n",
       "      <td>0.0</td>\n",
       "      <td>0.0</td>\n",
       "      <td>0.0</td>\n",
       "    </tr>\n",
       "    <tr>\n",
       "      <th>1</th>\n",
       "      <td>2020/08/04</td>\n",
       "      <td>Far North West</td>\n",
       "      <td>0.0</td>\n",
       "      <td>0</td>\n",
       "      <td>0.0</td>\n",
       "      <td>0.0</td>\n",
       "      <td>0.0</td>\n",
       "      <td>0.0</td>\n",
       "      <td>0</td>\n",
       "      <td>0.0</td>\n",
       "      <td>0.0</td>\n",
       "      <td>0.0</td>\n",
       "      <td>0.0</td>\n",
       "      <td>0.0</td>\n",
       "      <td>0.0</td>\n",
       "      <td>0.0</td>\n",
       "    </tr>\n",
       "    <tr>\n",
       "      <th>2</th>\n",
       "      <td>2020/08/04</td>\n",
       "      <td>Far North Central</td>\n",
       "      <td>0.0</td>\n",
       "      <td>0</td>\n",
       "      <td>0.0</td>\n",
       "      <td>0.0</td>\n",
       "      <td>0.0</td>\n",
       "      <td>0.0</td>\n",
       "      <td>0</td>\n",
       "      <td>0.0</td>\n",
       "      <td>0.0</td>\n",
       "      <td>0.0</td>\n",
       "      <td>0.0</td>\n",
       "      <td>0.0</td>\n",
       "      <td>0.0</td>\n",
       "      <td>0.0</td>\n",
       "    </tr>\n",
       "    <tr>\n",
       "      <th>3</th>\n",
       "      <td>2020/08/04</td>\n",
       "      <td>Far North East</td>\n",
       "      <td>6.0</td>\n",
       "      <td>0</td>\n",
       "      <td>0.0</td>\n",
       "      <td>0.0</td>\n",
       "      <td>6.0</td>\n",
       "      <td>0.0</td>\n",
       "      <td>0</td>\n",
       "      <td>0.0</td>\n",
       "      <td>0.0</td>\n",
       "      <td>0.0</td>\n",
       "      <td>0.0</td>\n",
       "      <td>0.0</td>\n",
       "      <td>0.0</td>\n",
       "      <td>0.0</td>\n",
       "    </tr>\n",
       "    <tr>\n",
       "      <th>4</th>\n",
       "      <td>2020/08/04</td>\n",
       "      <td>Far North East</td>\n",
       "      <td>0.0</td>\n",
       "      <td>0</td>\n",
       "      <td>0.0</td>\n",
       "      <td>0.0</td>\n",
       "      <td>0.0</td>\n",
       "      <td>0.0</td>\n",
       "      <td>0</td>\n",
       "      <td>0.0</td>\n",
       "      <td>0.0</td>\n",
       "      <td>0.0</td>\n",
       "      <td>0.0</td>\n",
       "      <td>0.0</td>\n",
       "      <td>0.0</td>\n",
       "      <td>0.0</td>\n",
       "    </tr>\n",
       "  </tbody>\n",
       "</table>\n",
       "</div>"
      ],
      "text/plain": [
       "         Date             Region  Total Cases  Active Cases  \\\n",
       "0  2020/08/04     Far North West        346.0             4   \n",
       "1  2020/08/04     Far North West          0.0             0   \n",
       "2  2020/08/04  Far North Central          0.0             0   \n",
       "3  2020/08/04     Far North East          6.0             0   \n",
       "4  2020/08/04     Far North East          0.0             0   \n",
       "\n",
       "   Inpatient Hospitalizations  ICU Hospitalizations  Recovered Cases  Deaths  \\\n",
       "0                         0.0                   0.0            335.0     7.0   \n",
       "1                         0.0                   0.0              0.0     0.0   \n",
       "2                         0.0                   0.0              0.0     0.0   \n",
       "3                         0.0                   0.0              6.0     0.0   \n",
       "4                         0.0                   0.0              0.0     0.0   \n",
       "\n",
       "   New Cases  Age 4 and Under  Age 5 to 11  Age 12 to 19  Age 20 to 39  \\\n",
       "0          0              0.0          0.0           0.0           0.0   \n",
       "1          0              0.0          0.0           0.0           0.0   \n",
       "2          0              0.0          0.0           0.0           0.0   \n",
       "3          0              0.0          0.0           0.0           0.0   \n",
       "4          0              0.0          0.0           0.0           0.0   \n",
       "\n",
       "   Ages 40 to 59  Age 60 to 79  Age 80+  \n",
       "0            0.0           0.0      0.0  \n",
       "1            0.0           0.0      0.0  \n",
       "2            0.0           0.0      0.0  \n",
       "3            0.0           0.0      0.0  \n",
       "4            0.0           0.0      0.0  "
      ]
     },
     "execution_count": 13,
     "metadata": {},
     "output_type": "execute_result"
    }
   ],
   "source": [
    "covidHost_df.head()"
   ]
  },
  {
   "cell_type": "code",
   "execution_count": 14,
   "id": "9f93604c-c398-4090-9f69-26031cef5650",
   "metadata": {},
   "outputs": [
    {
     "data": {
      "text/html": [
       "<div>\n",
       "<style scoped>\n",
       "    .dataframe tbody tr th:only-of-type {\n",
       "        vertical-align: middle;\n",
       "    }\n",
       "\n",
       "    .dataframe tbody tr th {\n",
       "        vertical-align: top;\n",
       "    }\n",
       "\n",
       "    .dataframe thead th {\n",
       "        text-align: right;\n",
       "    }\n",
       "</style>\n",
       "<table border=\"1\" class=\"dataframe\">\n",
       "  <thead>\n",
       "    <tr style=\"text-align: right;\">\n",
       "      <th></th>\n",
       "      <th>Date</th>\n",
       "      <th>Region</th>\n",
       "      <th>Total Cases</th>\n",
       "      <th>Active Cases</th>\n",
       "      <th>Inpatient Hospitalizations</th>\n",
       "      <th>ICU Hospitalizations</th>\n",
       "      <th>Recovered Cases</th>\n",
       "      <th>Deaths</th>\n",
       "      <th>New Cases</th>\n",
       "      <th>Age 4 and Under</th>\n",
       "      <th>Age 5 to 11</th>\n",
       "      <th>Age 12 to 19</th>\n",
       "      <th>Age 20 to 39</th>\n",
       "      <th>Ages 40 to 59</th>\n",
       "      <th>Age 60 to 79</th>\n",
       "      <th>Age 80+</th>\n",
       "    </tr>\n",
       "  </thead>\n",
       "  <tbody>\n",
       "    <tr>\n",
       "      <th>18211</th>\n",
       "      <td>2022/02/06</td>\n",
       "      <td>South East</td>\n",
       "      <td>8191.0</td>\n",
       "      <td>142</td>\n",
       "      <td>14.0</td>\n",
       "      <td>0.0</td>\n",
       "      <td>7415.0</td>\n",
       "      <td>84.0</td>\n",
       "      <td>6</td>\n",
       "      <td>0.0</td>\n",
       "      <td>0.0</td>\n",
       "      <td>0.0</td>\n",
       "      <td>0.0</td>\n",
       "      <td>0.0</td>\n",
       "      <td>0.0</td>\n",
       "      <td>0.0</td>\n",
       "    </tr>\n",
       "    <tr>\n",
       "      <th>18212</th>\n",
       "      <td>2022/02/06</td>\n",
       "      <td>South East</td>\n",
       "      <td>0.0</td>\n",
       "      <td>160</td>\n",
       "      <td>0.0</td>\n",
       "      <td>0.0</td>\n",
       "      <td>0.0</td>\n",
       "      <td>0.0</td>\n",
       "      <td>15</td>\n",
       "      <td>0.0</td>\n",
       "      <td>0.0</td>\n",
       "      <td>0.0</td>\n",
       "      <td>0.0</td>\n",
       "      <td>0.0</td>\n",
       "      <td>0.0</td>\n",
       "      <td>0.0</td>\n",
       "    </tr>\n",
       "    <tr>\n",
       "      <th>18213</th>\n",
       "      <td>2022/02/06</td>\n",
       "      <td>South East</td>\n",
       "      <td>0.0</td>\n",
       "      <td>182</td>\n",
       "      <td>0.0</td>\n",
       "      <td>0.0</td>\n",
       "      <td>0.0</td>\n",
       "      <td>0.0</td>\n",
       "      <td>9</td>\n",
       "      <td>0.0</td>\n",
       "      <td>0.0</td>\n",
       "      <td>0.0</td>\n",
       "      <td>0.0</td>\n",
       "      <td>0.0</td>\n",
       "      <td>0.0</td>\n",
       "      <td>0.0</td>\n",
       "    </tr>\n",
       "    <tr>\n",
       "      <th>18214</th>\n",
       "      <td>2022/02/06</td>\n",
       "      <td>South East</td>\n",
       "      <td>0.0</td>\n",
       "      <td>208</td>\n",
       "      <td>0.0</td>\n",
       "      <td>0.0</td>\n",
       "      <td>0.0</td>\n",
       "      <td>0.0</td>\n",
       "      <td>14</td>\n",
       "      <td>0.0</td>\n",
       "      <td>0.0</td>\n",
       "      <td>0.0</td>\n",
       "      <td>0.0</td>\n",
       "      <td>0.0</td>\n",
       "      <td>0.0</td>\n",
       "      <td>0.0</td>\n",
       "    </tr>\n",
       "    <tr>\n",
       "      <th>18215</th>\n",
       "      <td>2022/02/06</td>\n",
       "      <td>Total</td>\n",
       "      <td>123258.0</td>\n",
       "      <td>9223</td>\n",
       "      <td>301.0</td>\n",
       "      <td>31.0</td>\n",
       "      <td>113023.0</td>\n",
       "      <td>1012.0</td>\n",
       "      <td>724</td>\n",
       "      <td>6734.0</td>\n",
       "      <td>12229.0</td>\n",
       "      <td>14297.0</td>\n",
       "      <td>44786.0</td>\n",
       "      <td>29868.0</td>\n",
       "      <td>11745.0</td>\n",
       "      <td>3599.0</td>\n",
       "    </tr>\n",
       "  </tbody>\n",
       "</table>\n",
       "</div>"
      ],
      "text/plain": [
       "             Date      Region  Total Cases  Active Cases  \\\n",
       "18211  2022/02/06  South East       8191.0           142   \n",
       "18212  2022/02/06  South East          0.0           160   \n",
       "18213  2022/02/06  South East          0.0           182   \n",
       "18214  2022/02/06  South East          0.0           208   \n",
       "18215  2022/02/06       Total     123258.0          9223   \n",
       "\n",
       "       Inpatient Hospitalizations  ICU Hospitalizations  Recovered Cases  \\\n",
       "18211                        14.0                   0.0           7415.0   \n",
       "18212                         0.0                   0.0              0.0   \n",
       "18213                         0.0                   0.0              0.0   \n",
       "18214                         0.0                   0.0              0.0   \n",
       "18215                       301.0                  31.0         113023.0   \n",
       "\n",
       "       Deaths  New Cases  Age 4 and Under  Age 5 to 11  Age 12 to 19  \\\n",
       "18211    84.0          6              0.0          0.0           0.0   \n",
       "18212     0.0         15              0.0          0.0           0.0   \n",
       "18213     0.0          9              0.0          0.0           0.0   \n",
       "18214     0.0         14              0.0          0.0           0.0   \n",
       "18215  1012.0        724           6734.0      12229.0       14297.0   \n",
       "\n",
       "       Age 20 to 39  Ages 40 to 59  Age 60 to 79  Age 80+  \n",
       "18211           0.0            0.0           0.0      0.0  \n",
       "18212           0.0            0.0           0.0      0.0  \n",
       "18213           0.0            0.0           0.0      0.0  \n",
       "18214           0.0            0.0           0.0      0.0  \n",
       "18215       44786.0        29868.0       11745.0   3599.0  "
      ]
     },
     "execution_count": 14,
     "metadata": {},
     "output_type": "execute_result"
    }
   ],
   "source": [
    "covidHost_df.tail()"
   ]
  },
  {
   "cell_type": "markdown",
   "id": "0f4c6dc8-16f0-4bd7-979f-9754faa29995",
   "metadata": {},
   "source": [
    "## Converting the Data into a Time Series"
   ]
  },
  {
   "cell_type": "code",
   "execution_count": 15,
   "id": "88a1c022-e342-4619-8f5b-17b27f41a834",
   "metadata": {},
   "outputs": [],
   "source": [
    "#To make the date column to be parsed as a date field\n",
    "parse_dates=covidHost_df['Date']"
   ]
  },
  {
   "cell_type": "code",
   "execution_count": 16,
   "id": "60f75da6-f5fc-4c71-8ee0-394bb4cb0416",
   "metadata": {},
   "outputs": [
    {
     "data": {
      "text/html": [
       "<div>\n",
       "<style scoped>\n",
       "    .dataframe tbody tr th:only-of-type {\n",
       "        vertical-align: middle;\n",
       "    }\n",
       "\n",
       "    .dataframe tbody tr th {\n",
       "        vertical-align: top;\n",
       "    }\n",
       "\n",
       "    .dataframe thead th {\n",
       "        text-align: right;\n",
       "    }\n",
       "</style>\n",
       "<table border=\"1\" class=\"dataframe\">\n",
       "  <thead>\n",
       "    <tr style=\"text-align: right;\">\n",
       "      <th></th>\n",
       "      <th>Date</th>\n",
       "      <th>Region</th>\n",
       "      <th>Total Cases</th>\n",
       "      <th>Active Cases</th>\n",
       "      <th>Inpatient Hospitalizations</th>\n",
       "      <th>ICU Hospitalizations</th>\n",
       "      <th>Recovered Cases</th>\n",
       "      <th>Deaths</th>\n",
       "      <th>New Cases</th>\n",
       "      <th>Age 4 and Under</th>\n",
       "      <th>Age 5 to 11</th>\n",
       "      <th>Age 12 to 19</th>\n",
       "      <th>Age 20 to 39</th>\n",
       "      <th>Ages 40 to 59</th>\n",
       "      <th>Age 60 to 79</th>\n",
       "      <th>Age 80+</th>\n",
       "    </tr>\n",
       "  </thead>\n",
       "  <tbody>\n",
       "    <tr>\n",
       "      <th>0</th>\n",
       "      <td>2020/08/04</td>\n",
       "      <td>Far North West</td>\n",
       "      <td>346.0</td>\n",
       "      <td>4</td>\n",
       "      <td>0.0</td>\n",
       "      <td>0.0</td>\n",
       "      <td>335.0</td>\n",
       "      <td>7.0</td>\n",
       "      <td>0</td>\n",
       "      <td>0.0</td>\n",
       "      <td>0.0</td>\n",
       "      <td>0.0</td>\n",
       "      <td>0.0</td>\n",
       "      <td>0.0</td>\n",
       "      <td>0.0</td>\n",
       "      <td>0.0</td>\n",
       "    </tr>\n",
       "    <tr>\n",
       "      <th>1</th>\n",
       "      <td>2020/08/04</td>\n",
       "      <td>Far North West</td>\n",
       "      <td>0.0</td>\n",
       "      <td>0</td>\n",
       "      <td>0.0</td>\n",
       "      <td>0.0</td>\n",
       "      <td>0.0</td>\n",
       "      <td>0.0</td>\n",
       "      <td>0</td>\n",
       "      <td>0.0</td>\n",
       "      <td>0.0</td>\n",
       "      <td>0.0</td>\n",
       "      <td>0.0</td>\n",
       "      <td>0.0</td>\n",
       "      <td>0.0</td>\n",
       "      <td>0.0</td>\n",
       "    </tr>\n",
       "    <tr>\n",
       "      <th>2</th>\n",
       "      <td>2020/08/04</td>\n",
       "      <td>Far North Central</td>\n",
       "      <td>0.0</td>\n",
       "      <td>0</td>\n",
       "      <td>0.0</td>\n",
       "      <td>0.0</td>\n",
       "      <td>0.0</td>\n",
       "      <td>0.0</td>\n",
       "      <td>0</td>\n",
       "      <td>0.0</td>\n",
       "      <td>0.0</td>\n",
       "      <td>0.0</td>\n",
       "      <td>0.0</td>\n",
       "      <td>0.0</td>\n",
       "      <td>0.0</td>\n",
       "      <td>0.0</td>\n",
       "    </tr>\n",
       "    <tr>\n",
       "      <th>3</th>\n",
       "      <td>2020/08/04</td>\n",
       "      <td>Far North East</td>\n",
       "      <td>6.0</td>\n",
       "      <td>0</td>\n",
       "      <td>0.0</td>\n",
       "      <td>0.0</td>\n",
       "      <td>6.0</td>\n",
       "      <td>0.0</td>\n",
       "      <td>0</td>\n",
       "      <td>0.0</td>\n",
       "      <td>0.0</td>\n",
       "      <td>0.0</td>\n",
       "      <td>0.0</td>\n",
       "      <td>0.0</td>\n",
       "      <td>0.0</td>\n",
       "      <td>0.0</td>\n",
       "    </tr>\n",
       "    <tr>\n",
       "      <th>4</th>\n",
       "      <td>2020/08/04</td>\n",
       "      <td>Far North East</td>\n",
       "      <td>0.0</td>\n",
       "      <td>0</td>\n",
       "      <td>0.0</td>\n",
       "      <td>0.0</td>\n",
       "      <td>0.0</td>\n",
       "      <td>0.0</td>\n",
       "      <td>0</td>\n",
       "      <td>0.0</td>\n",
       "      <td>0.0</td>\n",
       "      <td>0.0</td>\n",
       "      <td>0.0</td>\n",
       "      <td>0.0</td>\n",
       "      <td>0.0</td>\n",
       "      <td>0.0</td>\n",
       "    </tr>\n",
       "  </tbody>\n",
       "</table>\n",
       "</div>"
      ],
      "text/plain": [
       "         Date             Region  Total Cases  Active Cases  \\\n",
       "0  2020/08/04     Far North West        346.0             4   \n",
       "1  2020/08/04     Far North West          0.0             0   \n",
       "2  2020/08/04  Far North Central          0.0             0   \n",
       "3  2020/08/04     Far North East          6.0             0   \n",
       "4  2020/08/04     Far North East          0.0             0   \n",
       "\n",
       "   Inpatient Hospitalizations  ICU Hospitalizations  Recovered Cases  Deaths  \\\n",
       "0                         0.0                   0.0            335.0     7.0   \n",
       "1                         0.0                   0.0              0.0     0.0   \n",
       "2                         0.0                   0.0              0.0     0.0   \n",
       "3                         0.0                   0.0              6.0     0.0   \n",
       "4                         0.0                   0.0              0.0     0.0   \n",
       "\n",
       "   New Cases  Age 4 and Under  Age 5 to 11  Age 12 to 19  Age 20 to 39  \\\n",
       "0          0              0.0          0.0           0.0           0.0   \n",
       "1          0              0.0          0.0           0.0           0.0   \n",
       "2          0              0.0          0.0           0.0           0.0   \n",
       "3          0              0.0          0.0           0.0           0.0   \n",
       "4          0              0.0          0.0           0.0           0.0   \n",
       "\n",
       "   Ages 40 to 59  Age 60 to 79  Age 80+  \n",
       "0            0.0           0.0      0.0  \n",
       "1            0.0           0.0      0.0  \n",
       "2            0.0           0.0      0.0  \n",
       "3            0.0           0.0      0.0  \n",
       "4            0.0           0.0      0.0  "
      ]
     },
     "execution_count": 16,
     "metadata": {},
     "output_type": "execute_result"
    }
   ],
   "source": [
    "covidHost_df.head()"
   ]
  },
  {
   "cell_type": "code",
   "execution_count": 34,
   "id": "21345dc6-dd95-4cd2-a37b-cae750e3ae7a",
   "metadata": {},
   "outputs": [],
   "source": [
    "#set the index to be the date column\n",
    "covidHost_df_DateInd = covidHost_df.set_index(\"Date\")\n",
    "covidHost_df_DateInd\n",
    "#the value columns are placed higher than date to imply that it is a series.\n",
    "covidHost_df_DateInd.to_csv(\"covidHost_df_DateInd.csv\", index=True)  #first 7 columns"
   ]
  },
  {
   "cell_type": "markdown",
   "id": "5916ff5f-3502-45ed-8dbe-3479d8ebb6c4",
   "metadata": {},
   "source": [
    "## Visualizing the time series"
   ]
  },
  {
   "cell_type": "code",
   "execution_count": 18,
   "id": "2898ff2b-df38-4279-b7b5-5e0da897c783",
   "metadata": {},
   "outputs": [],
   "source": [
    "def plot_df(df, x, y, title=\"\", xlabel='Date', ylabel='Value', dpi=100):\n",
    "    plt.figure(figsize=(16,5), dpi=dpi)\n",
    "    plt.plot(x, y, color='tab:red')\n",
    "    #plt.set_xticklabels(rotation = 90)\n",
    "    plt.gca().set(title=title, xlabel=xlabel, ylabel=ylabel)\n",
    "    plt.show()"
   ]
  },
  {
   "cell_type": "code",
   "execution_count": 19,
   "id": "ca1cd9c8-9668-48cf-b8cf-93f98c954507",
   "metadata": {},
   "outputs": [
    {
     "data": {
      "image/png": "[encoded data removed]",
      "text/plain": [
       "<Figure size 1600x500 with 1 Axes>"
      ]
     },
     "metadata": {
      "needs_background": "light"
     },
     "output_type": "display_data"
    }
   ],
   "source": [
    "plot_df(covidHost_df_DateInd, x=covidHost_df_DateInd.index, y=covidHost_df_DateInd[\"Active Cases\"], title=\"Active COVID-19 Cases Per Day\", xlabel=\"Date\", ylabel=\"Active Cases\")"
   ]
  },
  {
   "cell_type": "code",
   "execution_count": 20,
   "id": "27c129e7-5678-4456-8981-ef0f3146bfeb",
   "metadata": {
    "tags": []
   },
   "outputs": [
    {
     "name": "stdout",
     "output_type": "stream",
     "text": [
      "<class 'pandas.core.frame.DataFrame'>\n",
      "Int64Index: 13 entries, 0 to 12\n",
      "Data columns (total 7 columns):\n",
      " #   Column                      Non-Null Count  Dtype  \n",
      "---  ------                      --------------  -----  \n",
      " 0   Region                      13 non-null     object \n",
      " 1   Active Cases                13 non-null     int64  \n",
      " 2   Inpatient Hospitalizations  13 non-null     float64\n",
      " 3   ICU Hospitalizations        13 non-null     float64\n",
      " 4   Recovered Cases             13 non-null     float64\n",
      " 5   Deaths                      13 non-null     float64\n",
      " 6   New Cases                   13 non-null     int64  \n",
      "dtypes: float64(4), int64(2), object(1)\n",
      "memory usage: 832.0+ bytes\n"
     ]
    }
   ],
   "source": [
    "## Grouping cases by region\n",
    "covidHost_df_groupReg = covidHost_df.groupby([\"Region\"])[[\"Active Cases\", \"Inpatient Hospitalizations\", \"ICU Hospitalizations\", \"Recovered Cases\", \"Deaths\", \"New Cases\"]].sum().reset_index()\n",
    "covidHost_df_groupReg.head()\n",
    "#covidHost_df_groupReg.info()  #14 provinces/regions\n",
    "\n",
    "#deleting the last row with totals\n",
    "covidHost_df_groupReg.drop(covidHost_df_groupReg.tail(1).index, inplace=True)\n",
    "covidHost_df_groupReg.info()"
   ]
  },
  {
   "cell_type": "markdown",
   "id": "56c97026-f1d9-4dae-9ac4-457d71618516",
   "metadata": {},
   "source": [
    "#### Active Cases Versus Deaths by Region in Saskatchewan"
   ]
  },
  {
   "cell_type": "code",
   "execution_count": 21,
   "id": "0f9a4803-7257-4e84-8382-168b87dd9f38",
   "metadata": {
    "tags": []
   },
   "outputs": [],
   "source": [
    "#regions\n",
    "regions = covidHost_df_groupReg.Region\n",
    "#active\n",
    "active = covidHost_df_groupReg['Active Cases']"
   ]
  },
  {
   "cell_type": "code",
   "execution_count": 22,
   "id": "ba656c81-af28-4012-93a1-a5a19654097d",
   "metadata": {},
   "outputs": [],
   "source": [
    "#plotting a horizontal bar chart using matplotlib\n",
    "#plt.barh(regions,active)\n",
    "#plt.title(\"Active Cases by Region in Saskatchewan\")\n",
    "#plt.ylabel(\"Region\")\n",
    "#plt.xlabel(\"Active COVID-19 cases\")\n",
    "#plt.show()"
   ]
  },
  {
   "cell_type": "code",
   "execution_count": 23,
   "id": "eed09d86-e3c5-42a2-b311-83d39cdce0ad",
   "metadata": {
    "tags": []
   },
   "outputs": [
    {
     "data": {
      "image/png": "[encoded data removed]",
      "text/plain": [
       "<Figure size 720x576 with 1 Axes>"
      ]
     },
     "metadata": {
      "needs_background": "light"
     },
     "output_type": "display_data"
    }
   ],
   "source": [
    "#plotting a horizontal bar chart using matplotlib\n",
    "fig1, ax = plt.subplots(figsize=(10,8))\n",
    "ax.barh(regions,active)\n",
    "ax.barh(regions,covidHost_df_groupReg[\"Deaths\"])\n",
    "ax.set_title(\"Active Cases Versus Deaths by Region in Saskatchewan\")\n",
    "ax.set_ylabel(\"Region\")\n",
    "ax.set_xlabel(\"Active COVID-19 cases\")\n",
    "ax.legend([\"Active Cases\", \"Deaths\"])\n",
    "\n",
    "plt.show()"
   ]
  },
  {
   "cell_type": "markdown",
   "id": "b8503a86-5149-48a8-8b4a-3f4f24f2f220",
   "metadata": {
    "tags": []
   },
   "source": [
    "#### Conclusion:\n",
    "* More health resources (medical personnel and personal protective equipment, PPE) should be dedicated to the Saskatoon and Regina regions since they have the highest number of active cases and deaths due to COVID-19."
   ]
  },
  {
   "cell_type": "code",
   "execution_count": 24,
   "id": "c949e26c-2b4c-445b-875c-f811a5dea528",
   "metadata": {},
   "outputs": [],
   "source": [
    "#plt.stem(regions,active)\n",
    "#plt.show()"
   ]
  },
  {
   "cell_type": "code",
   "execution_count": 25,
   "id": "907caee2-191b-4bd4-a7fe-6f93406ebed0",
   "metadata": {},
   "outputs": [
    {
     "data": {
      "image/png": "[encoded data removed]",
      "text/plain": [
       "<Figure size 936x720 with 1 Axes>"
      ]
     },
     "metadata": {
      "needs_background": "light"
     },
     "output_type": "display_data"
    }
   ],
   "source": [
    "##plotting a stacked area chart\n",
    "#plt.stackplot(regions,active,covidHost_df_groupReg[\"Recovered Cases\"],covidHost_df_groupReg[\"Deaths\"],covidHost_df_groupReg[\"New Cases\"],labels=regions)\n",
    "#plt.legend(loc=\"upper left\")\n",
    "\n",
    "fig1, ax = plt.subplots(figsize=(13,10))\n",
    "ax.stackplot(regions,active,covidHost_df_groupReg[\"Recovered Cases\"],covidHost_df_groupReg[\"Deaths\"],covidHost_df_groupReg[\"New Cases\"],labels=[\"Active Cases\", \"Recovered Cases\", \"Deaths\", \"New Cases\"])\n",
    "ax.set_title(\"Blabla\")\n",
    "ax.legend(loc=\"upper left\")\n",
    "ax.set_ylabel(\"Region\")\n",
    "ax.set_xlabel(\"Active COVID-19 cases\")\n",
    "plt.show()"
   ]
  },
  {
   "cell_type": "code",
   "execution_count": 26,
   "id": "e8553ca1-c98f-4c6c-8100-1dc8e7e4b518",
   "metadata": {},
   "outputs": [],
   "source": [
    "#fig1, ax = plt.subplots(figsize=(15,12))\n",
    "#ax.plot(regions,active)\n",
    "#ax.plot(regions,covidHost_df_groupReg[\"Recovered Cases\"])\n",
    "#ax.plot(regions,covidHost_df_groupReg[\"Deaths\"])\n",
    "#ax.plot(regions,covidHost_df_groupReg[\"New Cases\"])\n",
    "#ax.set_title(\"Blabla\")\n",
    "#ax.legend(loc=\"upper left\")\n",
    "#ax.set_ylabel(\"Region\")\n",
    "#ax.set_xlabel(\"Active COVID-19 cases\")\n",
    "#plt.show()"
   ]
  },
  {
   "cell_type": "markdown",
   "id": "f1e744aa-dc8f-4fc3-b57c-43f15d6e8b22",
   "metadata": {},
   "source": [
    "#### COVID-19 Related Hospitalizations by Region in Saskatchewan"
   ]
  },
  {
   "cell_type": "code",
   "execution_count": 27,
   "id": "8764632e-0981-422b-b131-ab224eda166c",
   "metadata": {
    "tags": []
   },
   "outputs": [
    {
     "data": {
      "image/png": "[encoded data removed]",
      "text/plain": [
       "<Figure size 720x576 with 1 Axes>"
      ]
     },
     "metadata": {
      "needs_background": "light"
     },
     "output_type": "display_data"
    }
   ],
   "source": [
    "#Graph of COVID-19 related hospitalizations\n",
    "\n",
    "#plotting a horizontal bar chart using matplotlib\n",
    "fig1, ax = plt.subplots(figsize=(10,8))\n",
    "ax.barh(regions,covidHost_df_groupReg[\"Inpatient Hospitalizations\"],color=\"green\")\n",
    "ax.barh(regions,covidHost_df_groupReg[\"ICU Hospitalizations\"],color=\"purple\")\n",
    "ax.set_title(\"COVID-19 Related Hospitalizations by Region in Saskatchewan\")\n",
    "ax.set_ylabel(\"Region\")\n",
    "ax.set_xlabel(\"COVID-19 Hospitalizations\")\n",
    "ax.legend([\"Inpatient Hospitalizations\", \"ICU Hospitalizations\"])\n",
    "\n",
    "plt.show()"
   ]
  },
  {
   "cell_type": "markdown",
   "id": "a5d3480a-696e-43a6-92be-4a15beccfccf",
   "metadata": {
    "tags": []
   },
   "source": [
    "#### Conclusion:\n",
    "* Saskatoon has the greatest amount on strain on its health resources, followed by Regina due to the high number of COVID-related ICU hospitalizations.\n",
    "More health resources (medical personnel and personal protective equipment, PPE) should be dedicated to the Saskatoon and Regina regions.\n",
    "Medical personnel from the far north central, far north east, central west and far north west regions could be posted to Saskatoon and Regina, in order to have more medical staff to attend to patients hospitalized and in ICU due to COVID-19.\n",
    "More PPE should be supplied to Saskatoon and Regina and less to the rest."
   ]
  },
  {
   "cell_type": "code",
   "execution_count": null,
   "id": "1f6a0513-7e60-4acd-b32e-d92e24e675d1",
   "metadata": {},
   "outputs": [],
   "source": [
    "\n"
   ]
  }
 ],
 "metadata": {
  "kernelspec": {
   "display_name": "Python 3 (ipykernel)",
   "language": "python",
   "name": "python3"
  },
  "language_info": {
   "codemirror_mode": {
    "name": "ipython",
    "version": 3
   },
   "file_extension": ".py",
   "mimetype": "text/x-python",
   "name": "python",
   "nbconvert_exporter": "python",
   "pygments_lexer": "ipython3",
   "version": "3.9.7"
  }
 },
 "nbformat": 4,
 "nbformat_minor": 5
}
